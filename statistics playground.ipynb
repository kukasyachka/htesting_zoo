{
 "cells": [
  {
   "cell_type": "code",
   "execution_count": 2,
   "metadata": {},
   "outputs": [
    {
     "name": "stdout",
     "output_type": "stream",
     "text": [
      "Populating the interactive namespace from numpy and matplotlib\n"
     ]
    }
   ],
   "source": [
    "from scipy import stats\n",
    "import pandas as pd\n",
    "import numpy as np\n",
    "%pylab inline"
   ]
  },
  {
   "cell_type": "code",
   "execution_count": 251,
   "metadata": {},
   "outputs": [
    {
     "name": "stdout",
     "output_type": "stream",
     "text": [
      "100.08228012648124\n",
      "15.77765588033028\n"
     ]
    }
   ],
   "source": [
    "# sample_1 = np.random.lognormal(0, 1, 1000)\n",
    "# sample_1 = zip(np.random.normal(0, 1, 1000), np.random.normal(10, 1, 1000))\n",
    "# sample_1 = map(lambda (x,y): x if np.random.random() < 0.2 else y, sample_1)\n",
    "# sample_1 = np.random.standard_t(3, 1000) * 9 + 100\n",
    "sample_1 = stats.t(df=3, loc=100, scale=9).rvs(10000)\n",
    "\n",
    "print np.mean(sample_1)\n",
    "print np.std(sample_1)\n",
    "# sample_1 = np.random.normal(1, 1, 1000)\n",
    "# sample_2 = np.random.normal(2, 1, 1000)"
   ]
  },
  {
   "cell_type": "code",
   "execution_count": 247,
   "metadata": {},
   "outputs": [
    {
     "data": {
      "text/plain": [
       "(array([1.000e+00, 2.000e+00, 0.000e+00, 3.000e+00, 6.000e+00, 1.200e+01,\n",
       "        2.600e+01, 9.000e+01, 3.820e+02, 2.368e+03, 5.232e+03, 1.537e+03,\n",
       "        2.340e+02, 7.400e+01, 1.800e+01, 9.000e+00, 1.000e+00, 2.000e+00,\n",
       "        0.000e+00, 2.000e+00, 0.000e+00, 0.000e+00, 0.000e+00, 0.000e+00,\n",
       "        0.000e+00, 0.000e+00, 0.000e+00, 0.000e+00, 0.000e+00, 1.000e+00]),\n",
       " array([-54.73826677, -39.80210726, -24.86594775,  -9.92978824,\n",
       "          5.00637127,  19.94253077,  34.87869028,  49.81484979,\n",
       "         64.7510093 ,  79.68716881,  94.62332832, 109.55948782,\n",
       "        124.49564733, 139.43180684, 154.36796635, 169.30412586,\n",
       "        184.24028537, 199.17644488, 214.11260438, 229.04876389,\n",
       "        243.9849234 , 258.92108291, 273.85724242, 288.79340193,\n",
       "        303.72956143, 318.66572094, 333.60188045, 348.53803996,\n",
       "        363.47419947, 378.41035898, 393.34651849]),\n",
       " <a list of 30 Patch objects>)"
      ]
     },
     "execution_count": 247,
     "metadata": {},
     "output_type": "execute_result"
    },
    {
     "data": {
      "image/png": "[encoded data removed]",
      "text/plain": [
       "<Figure size 432x288 with 1 Axes>"
      ]
     },
     "metadata": {},
     "output_type": "display_data"
    }
   ],
   "source": [
    "plt.hist(sample_1, bins = 30)"
   ]
  },
  {
   "cell_type": "code",
   "execution_count": 15,
   "metadata": {},
   "outputs": [
    {
     "data": {
      "text/plain": [
       "1.1748617226986226e-100"
      ]
     },
     "execution_count": 15,
     "metadata": {},
     "output_type": "execute_result"
    }
   ],
   "source": [
    "result = stats.ttest_ind(sample_1, sample_2)\n",
    "result.pvalue"
   ]
  },
  {
   "cell_type": "code",
   "execution_count": 57,
   "metadata": {},
   "outputs": [],
   "source": [
    "def sample_generator_norm(size, effect, params):\n",
    "    sigma = params[0]\n",
    "    sample_1 = np.random.normal(0, sigma, size)\n",
    "    sample_2 = np.random.normal(effect, sigma, size)\n",
    "    return sample_1, sample_2\n",
    "    "
   ]
  },
  {
   "cell_type": "code",
   "execution_count": 94,
   "metadata": {},
   "outputs": [],
   "source": [
    "def sample_generator_gamma(size, effect, params):\n",
    "    k = params[0]\n",
    "    theta = params[1]\n",
    "    new_k = k\n",
    "    new_theta = theta + effect / new_k\n",
    "    sample_1 = np.random.gamma(k, theta, size)\n",
    "    sample_2 = np.random.gamma(new_k, new_theta, size)\n",
    "    return sample_1, sample_2\n",
    "    "
   ]
  },
  {
   "cell_type": "code",
   "execution_count": 122,
   "metadata": {},
   "outputs": [],
   "source": [
    "def sample_generator_lognormal(size, effect, params):\n",
    "    mu = params[0]\n",
    "    sigma = params[1]\n",
    "    sample_1 = np.random.lognormal(mu, sigma, size)\n",
    "    sample_2 = np.random.lognormal(mu + effect, sigma, size)\n",
    "    return sample_1, sample_2"
   ]
  },
  {
   "cell_type": "code",
   "execution_count": 172,
   "metadata": {},
   "outputs": [],
   "source": [
    "def sample_generator_skewed(size, effect, params):\n",
    "    mu = params[0]\n",
    "    sigma = params[1]\n",
    "    sample_1 = zip(np.random.normal(0, sigma, size), np.random.normal(2*mu, sigma, size))\n",
    "    sample_1 = map(lambda (x,y): x if np.random.random() < 0.5 else y, sample_1)\n",
    "    sample_2 = zip(np.random.normal(0, sigma, size), np.random.normal(2*mu, sigma, size))\n",
    "    sample_2 = map(lambda (x,y): x if np.random.random() < (0.5 - effect) else y, sample_2)\n",
    "    return sample_1, sample_2"
   ]
  },
  {
   "cell_type": "code",
   "execution_count": 252,
   "metadata": {},
   "outputs": [],
   "source": [
    "def sample_generator_student(size, effect, params):\n",
    "    v = params[0]\n",
    "    sample_1 = stats.t(df=v, loc=100, scale=9).rvs(size)\n",
    "    sample_2 = stats.t(df=v, loc=100+effect, scale=9).rvs(size)\n",
    "#     sample_1 = np.random.standard_t(v, size) * 2.6 + 100\n",
    "#     sample_2 = np.random.standard_t(v, size) * 2.6 + 100 + effect\n",
    "    return sample_1, sample_2"
   ]
  },
  {
   "cell_type": "code",
   "execution_count": 34,
   "metadata": {},
   "outputs": [
    {
     "data": {
      "text/plain": [
       "0.995"
      ]
     },
     "execution_count": 34,
     "metadata": {},
     "output_type": "execute_result"
    }
   ],
   "source": [
    "def exp_runner(n_repeats, size, effect, params, sample_generator):\n",
    "    results = []\n",
    "    for i in xrange(n_repeats):\n",
    "        sample_1, sample_2 = sample_generator(size, effect, params)\n",
    "        results.append(stats.ttest_ind(sample_1, sample_2).pvalue)\n",
    "    return 1. * sum(map(lambda x: 1 if x<=0.05 else 0, results)) / len(results)\n",
    "\n",
    "results = []\n",
    "for i in xrange(1000):\n",
    "    sample_1, sample_2 = sample_generator_norm(1000, 0.2, 1)\n",
    "    results.append(stats.ttest_ind(sample_1, sample_2).pvalue)\n",
    "    \n",
    "1. * sum(map(lambda x: 1 if x<=0.05 else 0, results)) / len(results)\n",
    "    "
   ]
  },
  {
   "cell_type": "code",
   "execution_count": 45,
   "metadata": {},
   "outputs": [],
   "source": [
    "probs = []\n",
    "effects = [2. * x / 1000 for x in xrange(100)]\n",
    "for effect in effects:\n",
    "    probs.append(exp_runner(10000, 1000, effect  , [1], sample_generator_norm))"
   ]
  },
  {
   "cell_type": "code",
   "execution_count": 46,
   "metadata": {},
   "outputs": [
    {
     "data": {
      "text/plain": [
       "<matplotlib.collections.PathCollection at 0x11e005710>"
      ]
     },
     "execution_count": 46,
     "metadata": {},
     "output_type": "execute_result"
    },
    {
     "data": {
      "image/png": "[encoded data removed]",
      "text/plain": [
       "<Figure size 432x288 with 1 Axes>"
      ]
     },
     "metadata": {},
     "output_type": "display_data"
    }
   ],
   "source": [
    "scatter(effects, probs)"
   ]
  },
  {
   "cell_type": "code",
   "execution_count": 253,
   "metadata": {},
   "outputs": [],
   "source": [
    "probs_2 = []\n",
    "effects_2 = [2. * x / 1000 for x in xrange(10)]\n",
    "effects_2 = [0.0, 10.0]\n",
    "for effect in effects_2:\n",
    "    probs_2.append(exp_runner(10000, 36,\n",
    "                              effect, [3], \n",
    "                              sample_generator_student))\n",
    "#                               sample_generator_norm))"
   ]
  },
  {
   "cell_type": "code",
   "execution_count": 254,
   "metadata": {},
   "outputs": [
    {
     "data": {
      "text/plain": [
       "[0.0461, 0.8118]"
      ]
     },
     "execution_count": 254,
     "metadata": {},
     "output_type": "execute_result"
    }
   ],
   "source": [
    "probs_2"
   ]
  },
  {
   "cell_type": "code",
   "execution_count": null,
   "metadata": {},
   "outputs": [],
   "source": []
  }
 ],
 "metadata": {
  "kernelspec": {
   "display_name": "Python 2",
   "language": "python",
   "name": "python2"
  },
  "language_info": {
   "codemirror_mode": {
    "name": "ipython",
    "version": 2
   },
   "file_extension": ".py",
   "mimetype": "text/x-python",
   "name": "python",
   "nbconvert_exporter": "python",
   "pygments_lexer": "ipython2",
   "version": "2.7.15"
  }
 },
 "nbformat": 4,
 "nbformat_minor": 2
}
