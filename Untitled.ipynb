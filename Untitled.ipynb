{
 "cells": [
  {
   "cell_type": "code",
   "execution_count": 8,
   "metadata": {},
   "outputs": [],
   "source": [
    "import scipy.stats as stats\n",
    "import numpy as np\n",
    "import matplotlib.pyplot as plt"
   ]
  },
  {
   "cell_type": "code",
   "execution_count": 3,
   "metadata": {},
   "outputs": [],
   "source": [
    "# def my_pdf(x):\n",
    "\n",
    "w1=0.7\n",
    "w2=0.3\n",
    "mu1=0\n",
    "mu2=5\n",
    "\n",
    "class my_distribution(stats.rv_continuous):\n",
    "#     def init(self, mu1, w1, mu2, w2, **kwargs):\n",
    "#         super().init(**kwargs)\n",
    "#         self.mu1=mu1\n",
    "#         self.mu2=mu2\n",
    "#         self.w1 = w1\n",
    "#         self.w2 = w2\n",
    "    def _pdf(self, x):\n",
    "        return (w1* np.exp(-(x-mu1)**2 / 2.)+ w2*np.exp(-(x-mu2)**2 / 2.) )/ np.sqrt(2.0 * np.pi)"
   ]
  },
  {
   "cell_type": "code",
   "execution_count": 4,
   "metadata": {},
   "outputs": [
    {
     "data": {
      "text/plain": [
       "-0.42648393254928907"
      ]
     },
     "execution_count": 4,
     "metadata": {},
     "output_type": "execute_result"
    }
   ],
   "source": [
    "distribution = my_distribution()\n",
    "distribution.rvs()"
   ]
  },
  {
   "cell_type": "code",
   "execution_count": 5,
   "metadata": {},
   "outputs": [],
   "source": [
    "x=distribution.rvs(size=1000)"
   ]
  },
  {
   "cell_type": "code",
   "execution_count": 6,
   "metadata": {},
   "outputs": [
    {
     "name": "stdout",
     "output_type": "stream",
     "text": [
      "mean: 1.4000116462885204\n",
      "std: 2.4420851374923167\n"
     ]
    }
   ],
   "source": [
    "print('mean:',x.mean() )\n",
    "print('std:',x.std())"
   ]
  },
  {
   "cell_type": "code",
   "execution_count": 14,
   "metadata": {},
   "outputs": [
    {
     "data": {
      "text/plain": [
       "(array([ 5., 15., 10., 10.,  1.,  1.,  2.,  2.,  3.,  1.]),\n",
       " array([-1.97122812, -1.10101477, -0.23080142,  0.63941193,  1.50962529,\n",
       "         2.37983864,  3.25005199,  4.12026534,  4.9904787 ,  5.86069205,\n",
       "         6.7309054 ]),\n",
       " <a list of 10 Patch objects>)"
      ]
     },
     "execution_count": 14,
     "metadata": {},
     "output_type": "execute_result"
    },
    {
     "data": {
      "image/png": "[encoded data removed]",
      "text/plain": [
       "<Figure size 432x288 with 1 Axes>"
      ]
     },
     "metadata": {
      "needs_background": "light"
     },
     "output_type": "display_data"
    }
   ],
   "source": [
    "plt.hist(x)"
   ]
  },
  {
   "cell_type": "code",
   "execution_count": 10,
   "metadata": {},
   "outputs": [],
   "source": [
    "means = []\n",
    "for i in range(50):\n",
    "    x=distribution.rvs(size=50)\n",
    "    means.append(x.mean())"
   ]
  },
  {
   "cell_type": "code",
   "execution_count": 11,
   "metadata": {},
   "outputs": [
    {
     "data": {
      "text/plain": [
       "(array([3., 1., 5., 5., 8., 8., 9., 4., 5., 2.]),\n",
       " array([0.67758784, 0.83488731, 0.99218678, 1.14948625, 1.30678572,\n",
       "        1.46408519, 1.62138467, 1.77868414, 1.93598361, 2.09328308,\n",
       "        2.25058255]),\n",
       " <a list of 10 Patch objects>)"
      ]
     },
     "execution_count": 11,
     "metadata": {},
     "output_type": "execute_result"
    },
    {
     "data": {
      "image/png": "[encoded data removed]",
      "text/plain": [
       "<Figure size 432x288 with 1 Axes>"
      ]
     },
     "metadata": {
      "needs_background": "light"
     },
     "output_type": "display_data"
    }
   ],
   "source": [
    "plt.hist(means)"
   ]
  },
  {
   "cell_type": "code",
   "execution_count": 15,
   "metadata": {},
   "outputs": [],
   "source": [
    "# # Set-up.\n",
    "# n = 10000\n",
    "# numpy.random.seed(0x5eed)\n",
    "# # Parameters of the mixture components\n",
    "# norm_params = np.array([[5, 1],\n",
    "#                         [1, 1.3],\n",
    "#                         [9, 1.3]])\n",
    "# n_components = norm_params.shape[0]\n",
    "# # Weight of each component, in this case all of them are 1/3\n",
    "# weights = np.ones(n_components, dtype=np.float64) / 3.0\n",
    "# # A stream of indices from which to choose the component\n",
    "# mixture_idx = numpy.random.choice(len(weights), size=n, replace=True, p=weights)\n",
    "# # y is the mixture sample\n",
    "# y = numpy.fromiter((ss.norm.rvs(*(norm_params[i])) for i in mixture_idx),\n",
    "#                    dtype=np.float64)\n",
    "\n",
    "# # Theoretical PDF plotting -- generate the x and y plotting positions\n",
    "# xs = np.linspace(y.min(), y.max(), 200)\n",
    "# ys = np.zeros_like(xs)\n",
    "\n",
    "# for (l, s), w in zip(norm_params, weights):\n",
    "#     ys += ss.norm.pdf(xs, loc=l, scale=s) * w\n",
    "\n",
    "# plt.plot(xs, ys)\n",
    "# plt.hist(y, normed=True, bins=\"fd\")\n",
    "# plt.xlabel(\"x\")\n",
    "# plt.ylabel(\"f(x)\")\n",
    "# plt.show()"
   ]
  },
  {
   "cell_type": "code",
   "execution_count": null,
   "metadata": {},
   "outputs": [],
   "source": []
  }
 ],
 "metadata": {
  "kernelspec": {
   "display_name": "sklearnpy36",
   "language": "python",
   "name": "sklearnpy36"
  },
  "language_info": {
   "codemirror_mode": {
    "name": "ipython",
    "version": 3
   },
   "file_extension": ".py",
   "mimetype": "text/x-python",
   "name": "python",
   "nbconvert_exporter": "python",
   "pygments_lexer": "ipython3",
   "version": "3.6.10"
  }
 },
 "nbformat": 4,
 "nbformat_minor": 2
}
