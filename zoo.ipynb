{
 "cells": [
  {
   "cell_type": "code",
   "execution_count": 1,
   "metadata": {},
   "outputs": [],
   "source": [
    "import numpy as np\n",
    "import pandas as pd\n",
    "import matplotlib.pyplot as plt"
   ]
  },
  {
   "cell_type": "code",
   "execution_count": 2,
   "metadata": {},
   "outputs": [],
   "source": [
    "np.random.normal?"
   ]
  },
  {
   "cell_type": "code",
   "execution_count": 3,
   "metadata": {},
   "outputs": [],
   "source": [
    "x = np.random.normal(loc=5, scale=1, size=20)\n",
    "y = np.random.normal(loc=6, scale=1, size=20)"
   ]
  },
  {
   "cell_type": "code",
   "execution_count": 4,
   "metadata": {},
   "outputs": [
    {
     "data": {
      "text/plain": [
       "(array([0.55582835, 0.        , 0.13895709, 0.27791418, 0.69478544,\n",
       "        0.41687126, 0.13895709, 0.13895709, 0.13895709, 0.27791418]),\n",
       " array([4.01737722, 4.37720053, 4.73702385, 5.09684716, 5.45667048,\n",
       "        5.81649379, 6.17631711, 6.53614043, 6.89596374, 7.25578706,\n",
       "        7.61561037]),\n",
       " <a list of 10 Patch objects>)"
      ]
     },
     "execution_count": 4,
     "metadata": {},
     "output_type": "execute_result"
    },
    {
     "data": {
      "image/png": "[encoded data removed]",
      "text/plain": [
       "<Figure size 432x288 with 1 Axes>"
      ]
     },
     "metadata": {
      "needs_background": "light"
     },
     "output_type": "display_data"
    }
   ],
   "source": [
    "plt.hist(x, alpha=0.5, density=True)\n",
    "plt.hist(y, alpha=0.5, density=True)"
   ]
  },
  {
   "cell_type": "code",
   "execution_count": 5,
   "metadata": {},
   "outputs": [
    {
     "data": {
      "text/plain": [
       "4.709354265663764"
      ]
     },
     "execution_count": 5,
     "metadata": {},
     "output_type": "execute_result"
    }
   ],
   "source": [
    "x.mean()"
   ]
  },
  {
   "cell_type": "code",
   "execution_count": 6,
   "metadata": {},
   "outputs": [
    {
     "data": {
      "text/plain": [
       "0.8760553366901103"
      ]
     },
     "execution_count": 6,
     "metadata": {},
     "output_type": "execute_result"
    }
   ],
   "source": [
    "x.std()"
   ]
  },
  {
   "cell_type": "code",
   "execution_count": 7,
   "metadata": {},
   "outputs": [
    {
     "data": {
      "text/plain": [
       "5.667777438447409"
      ]
     },
     "execution_count": 7,
     "metadata": {},
     "output_type": "execute_result"
    }
   ],
   "source": [
    "y.mean()"
   ]
  },
  {
   "cell_type": "code",
   "execution_count": 8,
   "metadata": {},
   "outputs": [
    {
     "data": {
      "text/plain": [
       "1.0400156261238955"
      ]
     },
     "execution_count": 8,
     "metadata": {},
     "output_type": "execute_result"
    }
   ],
   "source": [
    "y.std()"
   ]
  },
  {
   "cell_type": "code",
   "execution_count": 9,
   "metadata": {},
   "outputs": [],
   "source": [
    "import scipy.stats as stats"
   ]
  },
  {
   "cell_type": "code",
   "execution_count": 10,
   "metadata": {},
   "outputs": [
    {
     "data": {
      "text/plain": [
       "Ttest_indResult(statistic=-3.072226748698627, pvalue=0.003916458324046536)"
      ]
     },
     "execution_count": 10,
     "metadata": {},
     "output_type": "execute_result"
    }
   ],
   "source": [
    "stats.ttest_ind(x,y)"
   ]
  },
  {
   "cell_type": "code",
   "execution_count": 11,
   "metadata": {},
   "outputs": [
    {
     "name": "stdout",
     "output_type": "stream",
     "text": [
      "10\n",
      "Ttest_indResult(statistic=-2.516309002737602, pvalue=0.021563733458206252)\n",
      "------------------\n",
      "20\n",
      "Ttest_indResult(statistic=-1.5696398624468417, pvalue=0.12478944812319812)\n",
      "------------------\n",
      "30\n",
      "Ttest_indResult(statistic=-1.726539719570829, pvalue=0.08957370803881214)\n",
      "------------------\n",
      "100\n",
      "Ttest_indResult(statistic=-3.7587218012702115, pvalue=0.00022468546555573526)\n",
      "------------------\n",
      "1000\n",
      "Ttest_indResult(statistic=-10.628558771114566, pvalue=1.0511686332860548e-25)\n",
      "------------------\n"
     ]
    },
    {
     "data": {
      "image/png": "[encoded data removed]",
      "text/plain": [
       "<Figure size 1080x216 with 5 Axes>"
      ]
     },
     "metadata": {
      "needs_background": "light"
     },
     "output_type": "display_data"
    }
   ],
   "source": [
    "mu1 = 0\n",
    "mu2 = 0.5\n",
    "sigma1 = 1\n",
    "sigma2 = 1\n",
    "\n",
    "f, axs = plt.subplots(1,5, figsize=(15,3))\n",
    "for i, n in enumerate([10, 20, 30, 100, 1000]):\n",
    "    x = np.random.normal(loc=mu1, scale=sigma1, size=n)\n",
    "    y = np.random.normal(loc=mu2, scale=sigma2, size=n)\n",
    "    axs[i].hist(x, alpha=0.5, density=True)\n",
    "    axs[i].hist(y, alpha=0.5, density=True)\n",
    "    \n",
    "    print(n)\n",
    "    print(stats.ttest_ind(x,y))\n",
    "    axs[i].set_title(stats.ttest_ind(x,y).pvalue)\n",
    "    print('------------------')"
   ]
  },
  {
   "cell_type": "code",
   "execution_count": 12,
   "metadata": {},
   "outputs": [],
   "source": [
    "n_samples = 50"
   ]
  },
  {
   "cell_type": "code",
   "execution_count": 13,
   "metadata": {},
   "outputs": [
    {
     "name": "stdout",
     "output_type": "stream",
     "text": [
      "Ttest_indResult(statistic=-1.2082809343804013, pvalue=0.22984678288592697)\n"
     ]
    },
    {
     "data": {
      "image/png": "[encoded data removed]",
      "text/plain": [
       "<Figure size 432x288 with 1 Axes>"
      ]
     },
     "metadata": {
      "needs_background": "light"
     },
     "output_type": "display_data"
    }
   ],
   "source": [
    "mu1 = 0\n",
    "mu2 = 1\n",
    "sigma1 = 1\n",
    "sigma2 = 3\n",
    "x = np.random.normal(loc=mu1, scale=sigma1, size=n_samples)\n",
    "y = np.random.normal(loc=mu2, scale=sigma2, size=n_samples)\n",
    "plt.hist(x, alpha=0.5, density=True)\n",
    "plt.hist(y, alpha=0.5, density=True)\n",
    "\n",
    "print(stats.ttest_ind(x,y))"
   ]
  },
  {
   "cell_type": "code",
   "execution_count": 14,
   "metadata": {},
   "outputs": [
    {
     "name": "stdout",
     "output_type": "stream",
     "text": [
      "Ttest_indResult(statistic=-1.2082809343804013, pvalue=0.22984678288592697)\n"
     ]
    }
   ],
   "source": [
    "print(stats.ttest_ind(x,y))"
   ]
  },
  {
   "cell_type": "code",
   "execution_count": 15,
   "metadata": {},
   "outputs": [
    {
     "data": {
      "text/plain": [
       "0.22984678288592697"
      ]
     },
     "execution_count": 15,
     "metadata": {},
     "output_type": "execute_result"
    }
   ],
   "source": [
    "stats.ttest_ind(x,y).pvalue"
   ]
  },
  {
   "cell_type": "code",
   "execution_count": 16,
   "metadata": {},
   "outputs": [
    {
     "data": {
      "text/plain": [
       "MannwhitneyuResult(statistic=1037.0, pvalue=0.14293818231643227)"
      ]
     },
     "execution_count": 16,
     "metadata": {},
     "output_type": "execute_result"
    }
   ],
   "source": [
    "stats.mannwhitneyu(x,y, alternative='two-sided')"
   ]
  },
  {
   "cell_type": "code",
   "execution_count": 17,
   "metadata": {},
   "outputs": [],
   "source": [
    "n_iter = 1000"
   ]
  },
  {
   "cell_type": "code",
   "execution_count": 18,
   "metadata": {},
   "outputs": [
    {
     "name": "stdout",
     "output_type": "stream",
     "text": [
      "Mu: 0 0\n",
      "h0 rejected by mann-whitney: 62\n",
      "h0 rejected by t: 47\n",
      "Mu: 0 1\n",
      "h0 rejected by mann-whitney: 575\n",
      "h0 rejected by t: 593\n"
     ]
    }
   ],
   "source": [
    "\n",
    "\n",
    "mus1 = [0, 0]\n",
    "mus2 = [0, 1]\n",
    "for mu, mu2 in zip(mus1, mus2):\n",
    "    t_reject_count = 0\n",
    "    mwu_reject_count = 0    \n",
    "    for i in range(n_iter):    \n",
    "        x = np.random.normal(loc=mu1, scale=sigma1, size=n_samples)\n",
    "        y = np.random.normal(loc=mu2, scale=sigma2, size=n_samples)\n",
    "        t_pvalue = stats.ttest_ind(x,y).pvalue\n",
    "        mwu_pvalue = stats.mannwhitneyu(x,y, alternative='two-sided').pvalue\n",
    "        t_reject = int(t_pvalue < 0.05) # 0 or 1\n",
    "        t_reject_count += t_reject\n",
    "        mwu_reject = int(mwu_pvalue < 0.05) # 0 or 1\n",
    "        mwu_reject_count += mwu_reject\n",
    "    print('Mu:', mu1, mu2)\n",
    "    print('h0 rejected by mann-whitney:', mwu_reject_count)\n",
    "    print('h0 rejected by t:',t_reject_count)\n",
    "    "
   ]
  },
  {
   "cell_type": "code",
   "execution_count": 19,
   "metadata": {},
   "outputs": [],
   "source": [
    "# def my_pdf(x):\n",
    "\n",
    "w1=0.7\n",
    "w2=0.3\n",
    "mu1=0\n",
    "mu2=5\n",
    "\n",
    "class my_distribution(stats.rv_continuous):\n",
    "#     def init(self, mu1, w1, mu2, w2, **kwargs):\n",
    "#         super().init(**kwargs)\n",
    "#         self.mu1=mu1\n",
    "#         self.mu2=mu2\n",
    "#         self.w1 = w1\n",
    "#         self.w2 = w2\n",
    "    def _pdf(self, x):\n",
    "        return (w1* np.exp(-(x-mu1)**2 / 2.)+ w2*np.exp(-(x-mu2)**2 / 2.) )/ np.sqrt(2.0 * np.pi)\n"
   ]
  },
  {
   "cell_type": "code",
   "execution_count": 20,
   "metadata": {},
   "outputs": [
    {
     "data": {
      "text/plain": [
       "-0.7999452639545377"
      ]
     },
     "execution_count": 20,
     "metadata": {},
     "output_type": "execute_result"
    }
   ],
   "source": [
    "distribution = my_distribution()\n",
    "distribution.rvs()    "
   ]
  },
  {
   "cell_type": "code",
   "execution_count": 21,
   "metadata": {},
   "outputs": [],
   "source": [
    "x=distribution.rvs(size=1000)"
   ]
  },
  {
   "cell_type": "code",
   "execution_count": 22,
   "metadata": {},
   "outputs": [
    {
     "name": "stdout",
     "output_type": "stream",
     "text": [
      "mean: 1.4955234410872447\n",
      "std: 2.4912329637354267\n"
     ]
    }
   ],
   "source": [
    "print('mean:',x.mean() )\n",
    "print('std:',x.std())"
   ]
  },
  {
   "cell_type": "code",
   "execution_count": 24,
   "metadata": {},
   "outputs": [],
   "source": [
    "means = []\n",
    "for i in range(50):\n",
    "    x=distribution.rvs(size=50)\n",
    "    means.append(x.mean())"
   ]
  },
  {
   "cell_type": "code",
   "execution_count": 25,
   "metadata": {},
   "outputs": [
    {
     "data": {
      "text/plain": [
       "(array([ 2.,  1.,  8.,  7., 10., 11.,  4.,  4.,  1.,  2.]),\n",
       " array([0.7953261 , 0.95269202, 1.11005795, 1.26742387, 1.42478979,\n",
       "        1.58215571, 1.73952163, 1.89688755, 2.05425347, 2.21161939,\n",
       "        2.36898531]),\n",
       " <a list of 10 Patch objects>)"
      ]
     },
     "execution_count": 25,
     "metadata": {},
     "output_type": "execute_result"
    },
    {
     "data": {
      "image/png": "[encoded data removed]",
      "text/plain": [
       "<Figure size 432x288 with 1 Axes>"
      ]
     },
     "metadata": {
      "needs_background": "light"
     },
     "output_type": "display_data"
    }
   ],
   "source": [
    "plt.hist(means)"
   ]
  },
  {
   "cell_type": "code",
   "execution_count": null,
   "metadata": {},
   "outputs": [],
   "source": [
    "# # Set-up.\n",
    "# n = 10000\n",
    "# numpy.random.seed(0x5eed)\n",
    "# # Parameters of the mixture components\n",
    "# norm_params = np.array([[5, 1],\n",
    "#                         [1, 1.3],\n",
    "#                         [9, 1.3]])\n",
    "# n_components = norm_params.shape[0]\n",
    "# # Weight of each component, in this case all of them are 1/3\n",
    "# weights = np.ones(n_components, dtype=np.float64) / 3.0\n",
    "# # A stream of indices from which to choose the component\n",
    "# mixture_idx = numpy.random.choice(len(weights), size=n, replace=True, p=weights)\n",
    "# # y is the mixture sample\n",
    "# y = numpy.fromiter((ss.norm.rvs(*(norm_params[i])) for i in mixture_idx),\n",
    "#                    dtype=np.float64)\n",
    "\n",
    "# # Theoretical PDF plotting -- generate the x and y plotting positions\n",
    "# xs = np.linspace(y.min(), y.max(), 200)\n",
    "# ys = np.zeros_like(xs)\n",
    "\n",
    "# for (l, s), w in zip(norm_params, weights):\n",
    "#     ys += ss.norm.pdf(xs, loc=l, scale=s) * w\n",
    "\n",
    "# plt.plot(xs, ys)\n",
    "# plt.hist(y, normed=True, bins=\"fd\")\n",
    "# plt.xlabel(\"x\")\n",
    "# plt.ylabel(\"f(x)\")\n",
    "# plt.show()"
   ]
  },
  {
   "cell_type": "code",
   "execution_count": null,
   "metadata": {},
   "outputs": [],
   "source": [
    "# laplace distribution"
   ]
  },
  {
   "cell_type": "code",
   "execution_count": 26,
   "metadata": {},
   "outputs": [
    {
     "name": "stdout",
     "output_type": "stream",
     "text": [
      "Ttest_indResult(statistic=-2.122495166541795, pvalue=0.03631656613527461)\n",
      "MannwhitneyuResult(statistic=844.0, pvalue=0.0025914243307791846)\n"
     ]
    },
    {
     "data": {
      "image/png": "[encoded data removed]",
      "text/plain": [
       "<Figure size 432x288 with 1 Axes>"
      ]
     },
     "metadata": {
      "needs_background": "light"
     },
     "output_type": "display_data"
    }
   ],
   "source": [
    "sample_size=50\n",
    "loc1=0\n",
    "loc2=0.5\n",
    "x1 = np.random.laplace(loc=loc1, scale=1.0, size=sample_size)\n",
    "x2 = np.random.laplace(loc=loc2, scale=1.0, size=sample_size)\n",
    "plt.hist(x1)\n",
    "plt.hist(x2)\n",
    "p_t = stats.ttest_ind(x1,x2)\n",
    "p_mwu = stats.mannwhitneyu(x1,x2)\n",
    "print(p_t)\n",
    "print(p_mwu)"
   ]
  },
  {
   "cell_type": "code",
   "execution_count": null,
   "metadata": {},
   "outputs": [],
   "source": [
    "# power = P(reject H0 | H1 is true)\n",
    "# H0: mu1=mu2\n",
    "# H1: mu1!=mu2\n",
    "# type 1 error: P(reject H0 | H0 is true) == alpha?\n"
   ]
  },
  {
   "cell_type": "code",
   "execution_count": null,
   "metadata": {},
   "outputs": [],
   "source": []
  },
  {
   "cell_type": "code",
   "execution_count": 30,
   "metadata": {},
   "outputs": [],
   "source": [
    "def errors_check(distrib_generator, n_samples, n_iterations, loc1=0, loc2=0):\n",
    "    pvalues_t = np.zeros(n_iterations)\n",
    "    pvalues_mwu = np.zeros(n_iterations)\n",
    "    for i in range(n_iterations):\n",
    "        x1 = distrib_generator(loc=loc1, scale=1.0, size=n_samples)\n",
    "        x2 = distrib_generator(loc=loc2, scale=1.0, size=n_samples)\n",
    "        pvalues_t[i] = stats.ttest_ind(x1,x2).pvalue\n",
    "        pvalues_mwu[i] = stats.mannwhitneyu(x1,x2,alternative='two-sided').pvalue\n",
    "    #pvalues_t = np.array(pvalues_t)\n",
    "    \n",
    "    for test_name, pvals in zip(['t-test','MWu-test'],[pvalues_t, pvalues_mwu]):\n",
    "        rejected = pvals < 0.05\n",
    "        n_rejected = rejected.sum()\n",
    "        n_accepted = n_iterations - n_rejected\n",
    "        print(test_name)\n",
    "        print('accepted: {}/{}'.format(n_accepted, n_iterations))\n",
    "        print('rejected: {}/{}'.format(n_rejected, n_iterations))\n",
    "        if loc1==loc2:\n",
    "            print('Type 1 error:', n_rejected/n_iterations)\n",
    "        if loc1!=loc2:\n",
    "            print('effect size:', loc2-loc1)\n",
    "            print('Type 2 error:', n_accepted/n_iterations)"
   ]
  },
  {
   "cell_type": "code",
   "execution_count": 31,
   "metadata": {},
   "outputs": [
    {
     "name": "stdout",
     "output_type": "stream",
     "text": [
      "t-test\n",
      "accepted: 9504/10000\n",
      "rejected: 496/10000\n",
      "Type 1 error: 0.0496\n",
      "MWu-test\n",
      "accepted: 9514/10000\n",
      "rejected: 486/10000\n",
      "Type 1 error: 0.0486\n"
     ]
    }
   ],
   "source": [
    "errors_check(np.random.laplace, n_samples=50, n_iterations=10000)"
   ]
  },
  {
   "cell_type": "code",
   "execution_count": 32,
   "metadata": {},
   "outputs": [
    {
     "name": "stdout",
     "output_type": "stream",
     "text": [
      "t-test\n",
      "accepted: 5649/10000\n",
      "rejected: 4351/10000\n",
      "effect size: 0.5\n",
      "Type 2 error: 0.5649\n",
      "MWu-test\n",
      "accepted: 4408/10000\n",
      "rejected: 5592/10000\n",
      "effect size: 0.5\n",
      "Type 2 error: 0.4408\n"
     ]
    }
   ],
   "source": [
    "errors_check(np.random.laplace, n_samples=50, n_iterations=10000, loc1=0, loc2=0.5)"
   ]
  },
  {
   "cell_type": "code",
   "execution_count": 45,
   "metadata": {},
   "outputs": [],
   "source": [
    "# plot power of effect_size\n",
    "def get_powers_t_mwu(a, b, sample_generator, n_iterations, n_samples=50, num=101):\n",
    "    reject_rates = np.zeros([2, num])\n",
    "    i_effect=0\n",
    "    effect_sizes = np.linspace(a,b,num)\n",
    "    for effect_size in effect_sizes:\n",
    "        pvalues_t = np.zeros(n_iterations)\n",
    "        pvalues_mwu = np.zeros(n_iterations)\n",
    "        loc1=0\n",
    "        loc2=effect_size\n",
    "        for i in range(n_iterations):\n",
    "            x1 = sample_generator(loc=loc1, scale=1.0, size=n_samples)\n",
    "            x2 = sample_generator(loc=loc2, scale=1.0, size=n_samples)\n",
    "            pvalues_t[i] = stats.ttest_ind(x1,x2).pvalue\n",
    "            pvalues_mwu[i] = stats.mannwhitneyu(x1,x2, alternative='two-sided').pvalue\n",
    "        for itest, pvals in enumerate([pvalues_t, pvalues_mwu]):\n",
    "            rejected = pvals < 0.05\n",
    "            n_rejected = rejected.sum()\n",
    "            reject_rate = n_rejected / n_iterations\n",
    "            reject_rates[itest,i_effect]= reject_rate\n",
    "        i_effect+=1\n",
    "    return effect_sizes, reject_rates"
   ]
  },
  {
   "cell_type": "code",
   "execution_count": 37,
   "metadata": {},
   "outputs": [],
   "source": [
    "effect, pows = get_powers_t_mwu(0,3,np.random.laplace, 1000, 200)"
   ]
  },
  {
   "cell_type": "code",
   "execution_count": 38,
   "metadata": {},
   "outputs": [
    {
     "data": {
      "text/plain": [
       "<matplotlib.legend.Legend at 0x7f6e9352c390>"
      ]
     },
     "execution_count": 38,
     "metadata": {},
     "output_type": "execute_result"
    },
    {
     "data": {
      "image/png": "[encoded data removed]",
      "text/plain": [
       "<Figure size 432x288 with 1 Axes>"
      ]
     },
     "metadata": {
      "needs_background": "light"
     },
     "output_type": "display_data"
    }
   ],
   "source": [
    "plt.plot(effect, pows[0,:], label='t-test')\n",
    "plt.plot(effect, pows[1,:], label='Mann-Whitney-U-test')\n",
    "plt.legend()"
   ]
  },
  {
   "cell_type": "code",
   "execution_count": 39,
   "metadata": {},
   "outputs": [
    {
     "name": "stdout",
     "output_type": "stream",
     "text": [
      "0.05109560607125141\n",
      "1.460555326015323\n"
     ]
    }
   ],
   "source": [
    "x1 = np.random.laplace(loc=0, scale=1.0, size=1000)\n",
    "print(x1.mean())\n",
    "print(x1.std())\n"
   ]
  },
  {
   "cell_type": "code",
   "execution_count": 40,
   "metadata": {},
   "outputs": [
    {
     "name": "stdout",
     "output_type": "stream",
     "text": [
      "0.9896237387554904\n",
      "1.4260667878028013\n"
     ]
    }
   ],
   "source": [
    "x1 = np.random.laplace(loc=1, scale=1.0, size=1000)\n",
    "print(x1.mean())\n",
    "print(x1.std())"
   ]
  },
  {
   "cell_type": "code",
   "execution_count": 43,
   "metadata": {},
   "outputs": [],
   "source": [
    "effect, pows_normal = get_powers_t_mwu(0,1.5,np.random.normal, 1000, num=200)"
   ]
  },
  {
   "cell_type": "code",
   "execution_count": 44,
   "metadata": {},
   "outputs": [
    {
     "data": {
      "text/plain": [
       "<matplotlib.legend.Legend at 0x7f6e936bf898>"
      ]
     },
     "execution_count": 44,
     "metadata": {},
     "output_type": "execute_result"
    },
    {
     "data": {
      "image/png": "[encoded data removed]",
      "text/plain": [
       "<Figure size 432x288 with 1 Axes>"
      ]
     },
     "metadata": {
      "needs_background": "light"
     },
     "output_type": "display_data"
    }
   ],
   "source": [
    "plt.plot(effect, pows_normal[0,:], label='t-test')\n",
    "plt.plot(effect, pows_normal[1,:], label='Mann-Whitney-U-test')\n",
    "plt.title('Samples from normal distributions')\n",
    "plt.legend()"
   ]
  },
  {
   "cell_type": "code",
   "execution_count": 47,
   "metadata": {},
   "outputs": [],
   "source": [
    "effect, pows_normal_20 = get_powers_t_mwu(0,1.5,np.random.normal, 1000, n_samples=20, num=200)"
   ]
  },
  {
   "cell_type": "code",
   "execution_count": 48,
   "metadata": {},
   "outputs": [
    {
     "data": {
      "text/plain": [
       "<matplotlib.legend.Legend at 0x7f6e932746d8>"
      ]
     },
     "execution_count": 48,
     "metadata": {},
     "output_type": "execute_result"
    },
    {
     "data": {
      "image/png": "[encoded data removed]",
      "text/plain": [
       "<Figure size 432x288 with 1 Axes>"
      ]
     },
     "metadata": {
      "needs_background": "light"
     },
     "output_type": "display_data"
    }
   ],
   "source": [
    "plt.plot(effect, pows_normal_20[0,:], label='t-test')\n",
    "plt.plot(effect, pows_normal_20[1,:], label='Mann-Whitney-U-test')\n",
    "plt.title('Power for Normal distributions; sample size: 20')\n",
    "plt.legend()"
   ]
  },
  {
   "cell_type": "code",
   "execution_count": 52,
   "metadata": {},
   "outputs": [],
   "source": [
    "effect, pows_normal_cur = get_powers_t_mwu(0,3,np.random.normal, 1000, n_samples=10, num=200)"
   ]
  },
  {
   "cell_type": "code",
   "execution_count": 53,
   "metadata": {},
   "outputs": [
    {
     "data": {
      "text/plain": [
       "<matplotlib.legend.Legend at 0x7f6e9347de10>"
      ]
     },
     "execution_count": 53,
     "metadata": {},
     "output_type": "execute_result"
    },
    {
     "data": {
      "image/png": "[encoded data removed]",
      "text/plain": [
       "<Figure size 432x288 with 1 Axes>"
      ]
     },
     "metadata": {
      "needs_background": "light"
     },
     "output_type": "display_data"
    }
   ],
   "source": [
    "plt.plot(effect, pows_normal_cur[0,:], label='t-test')\n",
    "plt.plot(effect, pows_normal_cur[1,:], label='Mann-Whitney-U-test')\n",
    "plt.title('Power for Normal distributions; sample size: 10')\n",
    "plt.legend()"
   ]
  },
  {
   "cell_type": "markdown",
   "metadata": {},
   "source": [
    "## Example: paired vs unpaired (dependent / independent)"
   ]
  },
  {
   "cell_type": "code",
   "execution_count": 56,
   "metadata": {},
   "outputs": [],
   "source": [
    "import seaborn as sns"
   ]
  },
  {
   "cell_type": "code",
   "execution_count": 54,
   "metadata": {},
   "outputs": [],
   "source": [
    "np.random.normal?"
   ]
  },
  {
   "cell_type": "code",
   "execution_count": 107,
   "metadata": {},
   "outputs": [],
   "source": [
    "x1 = np.random.normal(5,1,size=20)"
   ]
  },
  {
   "cell_type": "code",
   "execution_count": 108,
   "metadata": {},
   "outputs": [
    {
     "data": {
      "text/plain": [
       "<matplotlib.axes._subplots.AxesSubplot at 0x7f6e8efd16a0>"
      ]
     },
     "execution_count": 108,
     "metadata": {},
     "output_type": "execute_result"
    },
    {
     "data": {
      "image/png": "[encoded data removed]",
      "text/plain": [
       "<Figure size 432x288 with 1 Axes>"
      ]
     },
     "metadata": {
      "needs_background": "light"
     },
     "output_type": "display_data"
    }
   ],
   "source": [
    "sns.swarmplot(y=x1)"
   ]
  },
  {
   "cell_type": "code",
   "execution_count": 133,
   "metadata": {},
   "outputs": [],
   "source": [
    "difference = np.random.normal(0.2,0.2, 20)\n"
   ]
  },
  {
   "cell_type": "code",
   "execution_count": 134,
   "metadata": {},
   "outputs": [
    {
     "data": {
      "text/plain": [
       "array([ 0.38435473, -0.03461242,  0.31030234,  0.44029632,  0.30110352,\n",
       "        0.36656586, -0.16803308,  0.38939913,  0.45894789,  0.21710199,\n",
       "        0.27131296,  0.42745048,  0.08294557,  0.2386099 ,  0.03254095,\n",
       "       -0.14234469,  0.20482512,  0.15265617,  0.11433499,  0.24893438])"
      ]
     },
     "execution_count": 134,
     "metadata": {},
     "output_type": "execute_result"
    }
   ],
   "source": [
    "difference"
   ]
  },
  {
   "cell_type": "code",
   "execution_count": 135,
   "metadata": {},
   "outputs": [
    {
     "data": {
      "text/plain": [
       "<matplotlib.axes._subplots.AxesSubplot at 0x7f6e8fbe95c0>"
      ]
     },
     "execution_count": 135,
     "metadata": {},
     "output_type": "execute_result"
    },
    {
     "data": {
      "image/png": "[encoded data removed]",
      "text/plain": [
       "<Figure size 432x288 with 1 Axes>"
      ]
     },
     "metadata": {
      "needs_background": "light"
     },
     "output_type": "display_data"
    }
   ],
   "source": [
    "sns.swarmplot(x1 + difference)"
   ]
  },
  {
   "cell_type": "code",
   "execution_count": 136,
   "metadata": {},
   "outputs": [],
   "source": [
    "x_gr = x1+difference"
   ]
  },
  {
   "cell_type": "code",
   "execution_count": 137,
   "metadata": {},
   "outputs": [],
   "source": [
    "import pandas as pd"
   ]
  },
  {
   "cell_type": "code",
   "execution_count": 138,
   "metadata": {},
   "outputs": [],
   "source": [
    "df = pd.DataFrame({'x': x1, 'y': x_gr})"
   ]
  },
  {
   "cell_type": "code",
   "execution_count": 148,
   "metadata": {},
   "outputs": [],
   "source": [
    "# df"
   ]
  },
  {
   "cell_type": "code",
   "execution_count": 140,
   "metadata": {},
   "outputs": [
    {
     "data": {
      "text/html": [
       "<div>\n",
       "<style scoped>\n",
       "    .dataframe tbody tr th:only-of-type {\n",
       "        vertical-align: middle;\n",
       "    }\n",
       "\n",
       "    .dataframe tbody tr th {\n",
       "        vertical-align: top;\n",
       "    }\n",
       "\n",
       "    .dataframe thead th {\n",
       "        text-align: right;\n",
       "    }\n",
       "</style>\n",
       "<table border=\"1\" class=\"dataframe\">\n",
       "  <thead>\n",
       "    <tr style=\"text-align: right;\">\n",
       "      <th></th>\n",
       "      <th>x</th>\n",
       "      <th>y</th>\n",
       "    </tr>\n",
       "  </thead>\n",
       "  <tbody>\n",
       "    <tr>\n",
       "      <th>count</th>\n",
       "      <td>20.000000</td>\n",
       "      <td>20.000000</td>\n",
       "    </tr>\n",
       "    <tr>\n",
       "      <th>mean</th>\n",
       "      <td>5.134778</td>\n",
       "      <td>5.349613</td>\n",
       "    </tr>\n",
       "    <tr>\n",
       "      <th>std</th>\n",
       "      <td>0.931678</td>\n",
       "      <td>0.943073</td>\n",
       "    </tr>\n",
       "    <tr>\n",
       "      <th>min</th>\n",
       "      <td>3.448226</td>\n",
       "      <td>3.653051</td>\n",
       "    </tr>\n",
       "    <tr>\n",
       "      <th>25%</th>\n",
       "      <td>4.706944</td>\n",
       "      <td>4.653813</td>\n",
       "    </tr>\n",
       "    <tr>\n",
       "      <th>50%</th>\n",
       "      <td>5.107421</td>\n",
       "      <td>5.378314</td>\n",
       "    </tr>\n",
       "    <tr>\n",
       "      <th>75%</th>\n",
       "      <td>5.983216</td>\n",
       "      <td>6.077298</td>\n",
       "    </tr>\n",
       "    <tr>\n",
       "      <th>max</th>\n",
       "      <td>6.294220</td>\n",
       "      <td>6.660786</td>\n",
       "    </tr>\n",
       "  </tbody>\n",
       "</table>\n",
       "</div>"
      ],
      "text/plain": [
       "               x          y\n",
       "count  20.000000  20.000000\n",
       "mean    5.134778   5.349613\n",
       "std     0.931678   0.943073\n",
       "min     3.448226   3.653051\n",
       "25%     4.706944   4.653813\n",
       "50%     5.107421   5.378314\n",
       "75%     5.983216   6.077298\n",
       "max     6.294220   6.660786"
      ]
     },
     "execution_count": 140,
     "metadata": {},
     "output_type": "execute_result"
    }
   ],
   "source": [
    "df.describe()"
   ]
  },
  {
   "cell_type": "code",
   "execution_count": 141,
   "metadata": {},
   "outputs": [],
   "source": [
    "melted = df.melt(value_vars=['x', 'y'], var_name='sample')"
   ]
  },
  {
   "cell_type": "code",
   "execution_count": 154,
   "metadata": {},
   "outputs": [
    {
     "data": {
      "text/plain": [
       "<matplotlib.axes._subplots.AxesSubplot at 0x7f6e8f160668>"
      ]
     },
     "execution_count": 154,
     "metadata": {},
     "output_type": "execute_result"
    },
    {
     "data": {
      "image/png": "[encoded data removed]",
      "text/plain": [
       "<Figure size 432x288 with 1 Axes>"
      ]
     },
     "metadata": {
      "needs_background": "light"
     },
     "output_type": "display_data"
    }
   ],
   "source": [
    "sns.swarmplot(x='sample', y='value', data=melted, color=\"0.2\")\n",
    "sns.boxplot(x='sample', y='value', data=melted)"
   ]
  },
  {
   "cell_type": "code",
   "execution_count": 155,
   "metadata": {},
   "outputs": [
    {
     "data": {
      "text/plain": [
       "Ttest_indResult(statistic=-0.7247404750419909, pvalue=0.47305047122970656)"
      ]
     },
     "execution_count": 155,
     "metadata": {},
     "output_type": "execute_result"
    }
   ],
   "source": [
    "stats.ttest_ind(df.x, df.y)"
   ]
  },
  {
   "cell_type": "code",
   "execution_count": 144,
   "metadata": {},
   "outputs": [
    {
     "data": {
      "text/plain": [
       "Ttest_relResult(statistic=-5.153297473056488, pvalue=5.651643343827386e-05)"
      ]
     },
     "execution_count": 144,
     "metadata": {},
     "output_type": "execute_result"
    }
   ],
   "source": [
    "stats.ttest_rel(df.x, df.y)"
   ]
  },
  {
   "cell_type": "code",
   "execution_count": 157,
   "metadata": {},
   "outputs": [
    {
     "data": {
      "text/plain": [
       "([<matplotlib.axis.XTick at 0x7f6e8f347860>,\n",
       "  <matplotlib.axis.XTick at 0x7f6e8f320668>],\n",
       " <a list of 2 Text xticklabel objects>)"
      ]
     },
     "execution_count": 157,
     "metadata": {},
     "output_type": "execute_result"
    },
    {
     "data": {
      "image/png": "[encoded data removed]",
      "text/plain": [
       "<Figure size 216x360 with 1 Axes>"
      ]
     },
     "metadata": {
      "needs_background": "light"
     },
     "output_type": "display_data"
    }
   ],
   "source": [
    "plt.figure(figsize=(3,5))\n",
    "plt.plot(df.values.T)\n",
    "plt.xticks([0,1], ['x','y'])"
   ]
  },
  {
   "cell_type": "code",
   "execution_count": 158,
   "metadata": {},
   "outputs": [],
   "source": [
    "# ANOVA"
   ]
  },
  {
   "cell_type": "code",
   "execution_count": 159,
   "metadata": {},
   "outputs": [],
   "source": [
    "#https://pythonfordatascience.org/anova-python/"
   ]
  },
  {
   "cell_type": "code",
   "execution_count": null,
   "metadata": {},
   "outputs": [],
   "source": []
  }
 ],
 "metadata": {
  "kernelspec": {
   "display_name": "sklearnpy36",
   "language": "python",
   "name": "sklearnpy36"
  },
  "language_info": {
   "codemirror_mode": {
    "name": "ipython",
    "version": 3
   },
   "file_extension": ".py",
   "mimetype": "text/x-python",
   "name": "python",
   "nbconvert_exporter": "python",
   "pygments_lexer": "ipython3",
   "version": "3.6.10"
  }
 },
 "nbformat": 4,
 "nbformat_minor": 2
}
