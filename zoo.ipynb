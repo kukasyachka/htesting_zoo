{
 "cells": [
  {
   "cell_type": "code",
   "execution_count": 1,
   "metadata": {},
   "outputs": [],
   "source": [
    "import numpy as np\n",
    "import pandas as pd\n",
    "import matplotlib.pyplot as plt"
   ]
  },
  {
   "cell_type": "markdown",
   "metadata": {},
   "source": [
    "# Comparing means of two populations"
   ]
  },
  {
   "cell_type": "code",
   "execution_count": 51,
   "metadata": {},
   "outputs": [],
   "source": [
    "x = np.random.normal(loc=5, scale=1, size=20)\n",
    "y = np.random.normal(loc=6, scale=1, size=20)"
   ]
  },
  {
   "cell_type": "code",
   "execution_count": 70,
   "metadata": {},
   "outputs": [
    {
     "data": {
      "text/plain": [
       "(array([0.0922353 , 0.        , 0.1844706 , 0.1844706 , 0.36894121,\n",
       "        0.55341181, 0.46117651]),\n",
       " array([3.23336281, 3.77545461, 4.3175464 , 4.85963819, 5.40172999,\n",
       "        5.94382178, 6.48591357, 7.02800536]),\n",
       " <a list of 7 Patch objects>)"
      ]
     },
     "execution_count": 70,
     "metadata": {},
     "output_type": "execute_result"
    },
    {
     "data": {
      "image/png": "[encoded data removed]",
      "text/plain": [
       "<Figure size 432x288 with 1 Axes>"
      ]
     },
     "metadata": {
      "needs_background": "light"
     },
     "output_type": "display_data"
    }
   ],
   "source": [
    "plt.hist(x, alpha=0.5, density=True, bins=7)\n",
    "plt.hist(y, alpha=0.5, density=True, bins=7)"
   ]
  },
  {
   "cell_type": "code",
   "execution_count": 71,
   "metadata": {},
   "outputs": [
    {
     "data": {
      "text/plain": [
       "4.9593834629017355"
      ]
     },
     "execution_count": 71,
     "metadata": {},
     "output_type": "execute_result"
    }
   ],
   "source": [
    "x.mean()"
   ]
  },
  {
   "cell_type": "code",
   "execution_count": 72,
   "metadata": {},
   "outputs": [
    {
     "data": {
      "text/plain": [
       "1.1098335562092811"
      ]
     },
     "execution_count": 72,
     "metadata": {},
     "output_type": "execute_result"
    }
   ],
   "source": [
    "x.std()"
   ]
  },
  {
   "cell_type": "code",
   "execution_count": 73,
   "metadata": {},
   "outputs": [
    {
     "data": {
      "text/plain": [
       "5.855866280493967"
      ]
     },
     "execution_count": 73,
     "metadata": {},
     "output_type": "execute_result"
    }
   ],
   "source": [
    "y.mean()"
   ]
  },
  {
   "cell_type": "code",
   "execution_count": 74,
   "metadata": {},
   "outputs": [
    {
     "data": {
      "text/plain": [
       "0.9128626501008326"
      ]
     },
     "execution_count": 74,
     "metadata": {},
     "output_type": "execute_result"
    }
   ],
   "source": [
    "y.std()"
   ]
  },
  {
   "cell_type": "code",
   "execution_count": 75,
   "metadata": {},
   "outputs": [],
   "source": [
    "import scipy.stats as stats"
   ]
  },
  {
   "cell_type": "markdown",
   "metadata": {},
   "source": [
    "## Unpaired 2-sample t-test "
   ]
  },
  {
   "cell_type": "code",
   "execution_count": 76,
   "metadata": {},
   "outputs": [
    {
     "data": {
      "text/plain": [
       "Ttest_indResult(statistic=-2.719278051236666, pvalue=0.009807306175231857)"
      ]
     },
     "execution_count": 76,
     "metadata": {},
     "output_type": "execute_result"
    }
   ],
   "source": [
    "stats.ttest_ind(x,y)"
   ]
  },
  {
   "cell_type": "code",
   "execution_count": 11,
   "metadata": {},
   "outputs": [
    {
     "name": "stdout",
     "output_type": "stream",
     "text": [
      "10\n",
      "Ttest_indResult(statistic=-2.516309002737602, pvalue=0.021563733458206252)\n",
      "------------------\n",
      "20\n",
      "Ttest_indResult(statistic=-1.5696398624468417, pvalue=0.12478944812319812)\n",
      "------------------\n",
      "30\n",
      "Ttest_indResult(statistic=-1.726539719570829, pvalue=0.08957370803881214)\n",
      "------------------\n",
      "100\n",
      "Ttest_indResult(statistic=-3.7587218012702115, pvalue=0.00022468546555573526)\n",
      "------------------\n",
      "1000\n",
      "Ttest_indResult(statistic=-10.628558771114566, pvalue=1.0511686332860548e-25)\n",
      "------------------\n"
     ]
    },
    {
     "data": {
      "image/png": "[encoded data removed]",
      "text/plain": [
       "<Figure size 1080x216 with 5 Axes>"
      ]
     },
     "metadata": {
      "needs_background": "light"
     },
     "output_type": "display_data"
    }
   ],
   "source": [
    "mu1 = 0\n",
    "mu2 = 0.5\n",
    "sigma1 = 1\n",
    "sigma2 = 1\n",
    "\n",
    "f, axs = plt.subplots(1,5, figsize=(15,3))\n",
    "for i, n in enumerate([10, 20, 30, 100, 1000]):\n",
    "    x = np.random.normal(loc=mu1, scale=sigma1, size=n)\n",
    "    y = np.random.normal(loc=mu2, scale=sigma2, size=n)\n",
    "    axs[i].hist(x, alpha=0.5, density=True)\n",
    "    axs[i].hist(y, alpha=0.5, density=True)\n",
    "    \n",
    "    print(n)\n",
    "    print(stats.ttest_ind(x,y))\n",
    "    axs[i].set_title(stats.ttest_ind(x,y).pvalue)\n",
    "    print('------------------')"
   ]
  },
  {
   "cell_type": "markdown",
   "metadata": {},
   "source": [
    "### Equal variances?"
   ]
  },
  {
   "cell_type": "code",
   "execution_count": 83,
   "metadata": {},
   "outputs": [],
   "source": [
    "n_samples = 50"
   ]
  },
  {
   "cell_type": "code",
   "execution_count": 84,
   "metadata": {},
   "outputs": [
    {
     "name": "stdout",
     "output_type": "stream",
     "text": [
      "Ttest_indResult(statistic=-1.677309385577176, pvalue=0.09666887190469736)\n"
     ]
    },
    {
     "data": {
      "image/png": "[encoded data removed]",
      "text/plain": [
       "<Figure size 432x288 with 1 Axes>"
      ]
     },
     "metadata": {
      "needs_background": "light"
     },
     "output_type": "display_data"
    }
   ],
   "source": [
    "mu1 = 0\n",
    "mu2 = 1\n",
    "\n",
    "sigma1 = 1\n",
    "sigma2 = 3\n",
    "x = np.random.normal(loc=mu1, scale=sigma1, size=n_samples)\n",
    "y = np.random.normal(loc=mu2, scale=sigma2, size=n_samples)\n",
    "plt.hist(x, alpha=0.5, density=True)\n",
    "plt.hist(y, alpha=0.5, density=True)\n",
    "\n",
    "print(stats.ttest_ind(x,y))"
   ]
  },
  {
   "cell_type": "code",
   "execution_count": 14,
   "metadata": {},
   "outputs": [
    {
     "name": "stdout",
     "output_type": "stream",
     "text": [
      "Ttest_indResult(statistic=-1.2082809343804013, pvalue=0.22984678288592697)\n"
     ]
    }
   ],
   "source": [
    "print(stats.ttest_ind(x,y))"
   ]
  },
  {
   "cell_type": "code",
   "execution_count": 15,
   "metadata": {},
   "outputs": [
    {
     "data": {
      "text/plain": [
       "0.22984678288592697"
      ]
     },
     "execution_count": 15,
     "metadata": {},
     "output_type": "execute_result"
    }
   ],
   "source": [
    "stats.ttest_ind(x,y).pvalue"
   ]
  },
  {
   "cell_type": "code",
   "execution_count": 16,
   "metadata": {},
   "outputs": [
    {
     "data": {
      "text/plain": [
       "MannwhitneyuResult(statistic=1037.0, pvalue=0.14293818231643227)"
      ]
     },
     "execution_count": 16,
     "metadata": {},
     "output_type": "execute_result"
    }
   ],
   "source": [
    "stats.mannwhitneyu(x,y, alternative='two-sided')"
   ]
  },
  {
   "cell_type": "code",
   "execution_count": 86,
   "metadata": {},
   "outputs": [],
   "source": [
    "n_iter = 1000"
   ]
  },
  {
   "cell_type": "code",
   "execution_count": 87,
   "metadata": {},
   "outputs": [
    {
     "name": "stdout",
     "output_type": "stream",
     "text": [
      "Mu: 0 0\n",
      "h0 rejected by mann-whitney: 72\n",
      "h0 rejected by t: 59\n",
      "Mu: 0 1\n",
      "h0 rejected by mann-whitney: 579\n",
      "h0 rejected by t: 603\n"
     ]
    }
   ],
   "source": [
    "mus1 = [0, 0]\n",
    "mus2 = [0, 1]\n",
    "for mu, mu2 in zip(mus1, mus2):\n",
    "    t_reject_count = 0\n",
    "    mwu_reject_count = 0    \n",
    "    for i in range(n_iter):    \n",
    "        x = np.random.normal(loc=mu1, scale=sigma1, size=n_samples)\n",
    "        y = np.random.normal(loc=mu2, scale=sigma2, size=n_samples)\n",
    "        t_pvalue = stats.ttest_ind(x,y).pvalue\n",
    "        mwu_pvalue = stats.mannwhitneyu(x,y, alternative='two-sided').pvalue\n",
    "        t_reject = int(t_pvalue < 0.05) # 0 or 1\n",
    "        t_reject_count += t_reject\n",
    "        mwu_reject = int(mwu_pvalue < 0.05) # 0 or 1\n",
    "        mwu_reject_count += mwu_reject\n",
    "    print('Mu:', mu1, mu2)\n",
    "    print('h0 rejected by mann-whitney:', mwu_reject_count)\n",
    "    print('h0 rejected by t:',t_reject_count)\n",
    "    "
   ]
  },
  {
   "cell_type": "markdown",
   "metadata": {},
   "source": [
    "### Normality?"
   ]
  },
  {
   "cell_type": "code",
   "execution_count": null,
   "metadata": {},
   "outputs": [],
   "source": [
    "# laplace distribution"
   ]
  },
  {
   "cell_type": "markdown",
   "metadata": {},
   "source": [
    "https://stats.stackexchange.com/questions/253127/is-the-inference-from-a-parametric-test-valid-when-the-population-distribution-i/253318#253318"
   ]
  },
  {
   "cell_type": "code",
   "execution_count": 99,
   "metadata": {},
   "outputs": [
    {
     "name": "stdout",
     "output_type": "stream",
     "text": [
      "Ttest_indResult(statistic=-1.4401359714726585, pvalue=0.1530159767421459)\n",
      "MannwhitneyuResult(statistic=1047.0, pvalue=0.08135746969460378)\n"
     ]
    },
    {
     "data": {
      "image/png": "[encoded data removed]",
      "text/plain": [
       "<Figure size 432x288 with 1 Axes>"
      ]
     },
     "metadata": {
      "needs_background": "light"
     },
     "output_type": "display_data"
    }
   ],
   "source": [
    "sample_size=50\n",
    "loc1=0\n",
    "loc2=0.5\n",
    "x1 = np.random.laplace(loc=loc1, scale=1.0, size=sample_size)\n",
    "x2 = np.random.laplace(loc=loc2, scale=1.0, size=sample_size)\n",
    "plt.hist(x1, alpha=0.4, bins=np.arange(-8,8))\n",
    "plt.hist(x2, alpha=0.4, bins=np.arange(-8,8))\n",
    "p_t = stats.ttest_ind(x1,x2)\n",
    "p_mwu = stats.mannwhitneyu(x1,x2)\n",
    "print(p_t)\n",
    "print(p_mwu)"
   ]
  },
  {
   "cell_type": "code",
   "execution_count": null,
   "metadata": {},
   "outputs": [],
   "source": [
    "# power = P(reject H0 | H1 is true)\n",
    "# H0: mu1=mu2\n",
    "# H1: mu1!=mu2\n",
    "# type 1 error: P(reject H0 | H0 is true) == alpha?\n"
   ]
  },
  {
   "cell_type": "code",
   "execution_count": 100,
   "metadata": {},
   "outputs": [],
   "source": [
    "def errors_check(distrib_generator, n_samples, n_iterations, loc1=0, loc2=0):\n",
    "    pvalues_t = np.zeros(n_iterations)\n",
    "    pvalues_mwu = np.zeros(n_iterations)\n",
    "    for i in range(n_iterations):\n",
    "        x1 = distrib_generator(loc=loc1, scale=1.0, size=n_samples)\n",
    "        x2 = distrib_generator(loc=loc2, scale=1.0, size=n_samples)\n",
    "        pvalues_t[i] = stats.ttest_ind(x1,x2).pvalue\n",
    "        pvalues_mwu[i] = stats.mannwhitneyu(x1,x2,alternative='two-sided').pvalue\n",
    "    #pvalues_t = np.array(pvalues_t)\n",
    "    \n",
    "    for test_name, pvals in zip(['t-test','MWu-test'],[pvalues_t, pvalues_mwu]):\n",
    "        rejected = pvals < 0.05\n",
    "        n_rejected = rejected.sum()\n",
    "        n_accepted = n_iterations - n_rejected\n",
    "        print(test_name)\n",
    "        print('accepted: {}/{}'.format(n_accepted, n_iterations))\n",
    "        print('rejected: {}/{}'.format(n_rejected, n_iterations))\n",
    "        if loc1==loc2:\n",
    "            print('Type 1 error:', n_rejected/n_iterations)\n",
    "        if loc1!=loc2:\n",
    "            print('effect size:', loc2-loc1)\n",
    "            print('Type 2 error:', n_accepted/n_iterations)"
   ]
  },
  {
   "cell_type": "code",
   "execution_count": 101,
   "metadata": {},
   "outputs": [
    {
     "name": "stdout",
     "output_type": "stream",
     "text": [
      "t-test\n",
      "accepted: 9478/10000\n",
      "rejected: 522/10000\n",
      "Type 1 error: 0.0522\n",
      "MWu-test\n",
      "accepted: 9489/10000\n",
      "rejected: 511/10000\n",
      "Type 1 error: 0.0511\n"
     ]
    }
   ],
   "source": [
    "errors_check(np.random.laplace, n_samples=50, n_iterations=10000)"
   ]
  },
  {
   "cell_type": "code",
   "execution_count": 102,
   "metadata": {},
   "outputs": [
    {
     "name": "stdout",
     "output_type": "stream",
     "text": [
      "t-test\n",
      "accepted: 5650/10000\n",
      "rejected: 4350/10000\n",
      "effect size: 0.5\n",
      "Type 2 error: 0.565\n",
      "MWu-test\n",
      "accepted: 4398/10000\n",
      "rejected: 5602/10000\n",
      "effect size: 0.5\n",
      "Type 2 error: 0.4398\n"
     ]
    }
   ],
   "source": [
    "errors_check(np.random.laplace, n_samples=50, n_iterations=10000, loc1=0, loc2=0.5)"
   ]
  },
  {
   "cell_type": "code",
   "execution_count": 103,
   "metadata": {},
   "outputs": [],
   "source": [
    "# plot power of effect_size\n",
    "def get_powers_t_mwu(a, b, sample_generator, n_iterations, n_samples=50, num=101):\n",
    "    reject_rates = np.zeros([2, num])\n",
    "    i_effect=0\n",
    "    effect_sizes = np.linspace(a,b,num)\n",
    "    for effect_size in effect_sizes:\n",
    "        pvalues_t = np.zeros(n_iterations)\n",
    "        pvalues_mwu = np.zeros(n_iterations)\n",
    "        loc1=0\n",
    "        loc2=effect_size\n",
    "        for i in range(n_iterations):\n",
    "            x1 = sample_generator(loc=loc1, scale=1.0, size=n_samples)\n",
    "            x2 = sample_generator(loc=loc2, scale=1.0, size=n_samples)\n",
    "            pvalues_t[i] = stats.ttest_ind(x1,x2).pvalue\n",
    "            pvalues_mwu[i] = stats.mannwhitneyu(x1,x2, alternative='two-sided').pvalue\n",
    "        for itest, pvals in enumerate([pvalues_t, pvalues_mwu]):\n",
    "            rejected = pvals < 0.05\n",
    "            n_rejected = rejected.sum()\n",
    "            reject_rate = n_rejected / n_iterations\n",
    "            reject_rates[itest,i_effect]= reject_rate\n",
    "        i_effect+=1\n",
    "    return effect_sizes, reject_rates"
   ]
  },
  {
   "cell_type": "code",
   "execution_count": 104,
   "metadata": {},
   "outputs": [],
   "source": [
    "effect, pows = get_powers_t_mwu(0,3,np.random.laplace, 1000, 200)"
   ]
  },
  {
   "cell_type": "code",
   "execution_count": 105,
   "metadata": {},
   "outputs": [
    {
     "data": {
      "text/plain": [
       "<matplotlib.legend.Legend at 0x7f3c013aecc0>"
      ]
     },
     "execution_count": 105,
     "metadata": {},
     "output_type": "execute_result"
    },
    {
     "data": {
      "image/png": "[encoded data removed]",
      "text/plain": [
       "<Figure size 432x288 with 1 Axes>"
      ]
     },
     "metadata": {
      "needs_background": "light"
     },
     "output_type": "display_data"
    }
   ],
   "source": [
    "plt.plot(effect, pows[0,:], label='t-test')\n",
    "plt.plot(effect, pows[1,:], label='Mann-Whitney-U-test')\n",
    "plt.legend()"
   ]
  },
  {
   "cell_type": "code",
   "execution_count": 106,
   "metadata": {},
   "outputs": [
    {
     "name": "stdout",
     "output_type": "stream",
     "text": [
      "-0.044774871292566076\n",
      "1.3584337683227283\n"
     ]
    }
   ],
   "source": [
    "x1 = np.random.laplace(loc=0, scale=1.0, size=1000)\n",
    "print(x1.mean())\n",
    "print(x1.std())\n"
   ]
  },
  {
   "cell_type": "code",
   "execution_count": 107,
   "metadata": {},
   "outputs": [
    {
     "name": "stdout",
     "output_type": "stream",
     "text": [
      "0.976945238069981\n",
      "1.3428663770306803\n"
     ]
    }
   ],
   "source": [
    "x1 = np.random.laplace(loc=1, scale=1.0, size=1000)\n",
    "print(x1.mean())\n",
    "print(x1.std())"
   ]
  },
  {
   "cell_type": "code",
   "execution_count": 108,
   "metadata": {},
   "outputs": [],
   "source": [
    "effect, pows_normal = get_powers_t_mwu(0,1.5,np.random.normal, 1000, num=200)"
   ]
  },
  {
   "cell_type": "code",
   "execution_count": 109,
   "metadata": {},
   "outputs": [
    {
     "data": {
      "text/plain": [
       "<matplotlib.legend.Legend at 0x7f3c0130b7b8>"
      ]
     },
     "execution_count": 109,
     "metadata": {},
     "output_type": "execute_result"
    },
    {
     "data": {
      "image/png": "[encoded data removed]",
      "text/plain": [
       "<Figure size 432x288 with 1 Axes>"
      ]
     },
     "metadata": {
      "needs_background": "light"
     },
     "output_type": "display_data"
    }
   ],
   "source": [
    "plt.plot(effect, pows_normal[0,:], label='t-test')\n",
    "plt.plot(effect, pows_normal[1,:], label='Mann-Whitney-U-test')\n",
    "plt.title('Samples from normal distributions')\n",
    "plt.legend()"
   ]
  },
  {
   "cell_type": "code",
   "execution_count": 110,
   "metadata": {},
   "outputs": [],
   "source": [
    "effect, pows_normal_20 = get_powers_t_mwu(0,1.5,np.random.normal, 1000, n_samples=20, num=200)"
   ]
  },
  {
   "cell_type": "code",
   "execution_count": 111,
   "metadata": {},
   "outputs": [
    {
     "data": {
      "text/plain": [
       "<matplotlib.legend.Legend at 0x7f3c0127fdd8>"
      ]
     },
     "execution_count": 111,
     "metadata": {},
     "output_type": "execute_result"
    },
    {
     "data": {
      "image/png": "[encoded data removed]",
      "text/plain": [
       "<Figure size 432x288 with 1 Axes>"
      ]
     },
     "metadata": {
      "needs_background": "light"
     },
     "output_type": "display_data"
    }
   ],
   "source": [
    "plt.plot(effect, pows_normal_20[0,:], label='t-test')\n",
    "plt.plot(effect, pows_normal_20[1,:], label='Mann-Whitney-U-test')\n",
    "plt.title('Power for Normal distributions; sample size: 20')\n",
    "plt.legend()"
   ]
  },
  {
   "cell_type": "code",
   "execution_count": 115,
   "metadata": {},
   "outputs": [],
   "source": [
    "sample_size = 100\n",
    "n_iterations=200\n",
    "number_points = 100\n",
    "\n",
    "effect, pows_normal_cur = get_powers_t_mwu(0,1.5,np.random.normal, n_iterations, n_samples=sample_size, num=number_points)"
   ]
  },
  {
   "cell_type": "code",
   "execution_count": 116,
   "metadata": {},
   "outputs": [
    {
     "data": {
      "text/plain": [
       "<matplotlib.legend.Legend at 0x7f3c011b9ba8>"
      ]
     },
     "execution_count": 116,
     "metadata": {},
     "output_type": "execute_result"
    },
    {
     "data": {
      "image/png": "[encoded data removed]",
      "text/plain": [
       "<Figure size 432x288 with 1 Axes>"
      ]
     },
     "metadata": {
      "needs_background": "light"
     },
     "output_type": "display_data"
    }
   ],
   "source": [
    "plt.plot(effect, pows_normal_cur[0,:], label='t-test')\n",
    "plt.plot(effect, pows_normal_cur[1,:], label='Mann-Whitney-U-test')\n",
    "plt.title('Power for Normal;n={}'.format(sample_size))\n",
    "plt.legend()"
   ]
  },
  {
   "cell_type": "markdown",
   "metadata": {},
   "source": [
    "## Example: paired vs unpaired (dependent / independent)"
   ]
  },
  {
   "cell_type": "code",
   "execution_count": 118,
   "metadata": {},
   "outputs": [],
   "source": [
    "import seaborn as sns"
   ]
  },
  {
   "cell_type": "code",
   "execution_count": 121,
   "metadata": {},
   "outputs": [],
   "source": [
    "# np.random.normal?"
   ]
  },
  {
   "cell_type": "code",
   "execution_count": 122,
   "metadata": {},
   "outputs": [],
   "source": [
    "x1 = np.random.normal(5,1,size=20)"
   ]
  },
  {
   "cell_type": "code",
   "execution_count": 123,
   "metadata": {},
   "outputs": [
    {
     "data": {
      "text/plain": [
       "<matplotlib.axes._subplots.AxesSubplot at 0x7f3c00fd5d30>"
      ]
     },
     "execution_count": 123,
     "metadata": {},
     "output_type": "execute_result"
    },
    {
     "data": {
      "image/png": "[encoded data removed]",
      "text/plain": [
       "<Figure size 432x288 with 1 Axes>"
      ]
     },
     "metadata": {
      "needs_background": "light"
     },
     "output_type": "display_data"
    }
   ],
   "source": [
    "sns.swarmplot(y=x1)"
   ]
  },
  {
   "cell_type": "code",
   "execution_count": 124,
   "metadata": {},
   "outputs": [],
   "source": [
    "difference = np.random.normal(0.2,0.2, 20)\n"
   ]
  },
  {
   "cell_type": "code",
   "execution_count": 125,
   "metadata": {},
   "outputs": [
    {
     "data": {
      "text/plain": [
       "array([ 0.00598391,  0.42774874,  0.59378932,  0.29636803,  0.21374978,\n",
       "        0.41707171,  0.46826328, -0.27053673, -0.04731078,  0.07275869,\n",
       "        0.41313584, -0.00351753,  0.43794711,  0.38769244, -0.03790236,\n",
       "        0.30005411,  0.00255286,  0.29725906,  0.29126421,  0.13671725])"
      ]
     },
     "execution_count": 125,
     "metadata": {},
     "output_type": "execute_result"
    }
   ],
   "source": [
    "difference"
   ]
  },
  {
   "cell_type": "code",
   "execution_count": 126,
   "metadata": {},
   "outputs": [
    {
     "data": {
      "text/plain": [
       "<matplotlib.axes._subplots.AxesSubplot at 0x7f3c00fafc18>"
      ]
     },
     "execution_count": 126,
     "metadata": {},
     "output_type": "execute_result"
    },
    {
     "data": {
      "image/png": "[encoded data removed]",
      "text/plain": [
       "<Figure size 432x288 with 1 Axes>"
      ]
     },
     "metadata": {
      "needs_background": "light"
     },
     "output_type": "display_data"
    }
   ],
   "source": [
    "sns.swarmplot(y=(x1 + difference))"
   ]
  },
  {
   "cell_type": "code",
   "execution_count": 127,
   "metadata": {},
   "outputs": [],
   "source": [
    "x_gr = x1+difference"
   ]
  },
  {
   "cell_type": "code",
   "execution_count": 128,
   "metadata": {},
   "outputs": [],
   "source": [
    "import pandas as pd"
   ]
  },
  {
   "cell_type": "code",
   "execution_count": 129,
   "metadata": {},
   "outputs": [],
   "source": [
    "df = pd.DataFrame({'x': x1, 'y': x_gr})"
   ]
  },
  {
   "cell_type": "code",
   "execution_count": 130,
   "metadata": {},
   "outputs": [],
   "source": [
    "# df"
   ]
  },
  {
   "cell_type": "code",
   "execution_count": 131,
   "metadata": {},
   "outputs": [
    {
     "data": {
      "text/html": [
       "<div>\n",
       "<style scoped>\n",
       "    .dataframe tbody tr th:only-of-type {\n",
       "        vertical-align: middle;\n",
       "    }\n",
       "\n",
       "    .dataframe tbody tr th {\n",
       "        vertical-align: top;\n",
       "    }\n",
       "\n",
       "    .dataframe thead th {\n",
       "        text-align: right;\n",
       "    }\n",
       "</style>\n",
       "<table border=\"1\" class=\"dataframe\">\n",
       "  <thead>\n",
       "    <tr style=\"text-align: right;\">\n",
       "      <th></th>\n",
       "      <th>x</th>\n",
       "      <th>y</th>\n",
       "    </tr>\n",
       "  </thead>\n",
       "  <tbody>\n",
       "    <tr>\n",
       "      <th>count</th>\n",
       "      <td>20.000000</td>\n",
       "      <td>20.000000</td>\n",
       "    </tr>\n",
       "    <tr>\n",
       "      <th>mean</th>\n",
       "      <td>5.396255</td>\n",
       "      <td>5.616409</td>\n",
       "    </tr>\n",
       "    <tr>\n",
       "      <th>std</th>\n",
       "      <td>1.001252</td>\n",
       "      <td>0.974802</td>\n",
       "    </tr>\n",
       "    <tr>\n",
       "      <th>min</th>\n",
       "      <td>2.795827</td>\n",
       "      <td>3.183520</td>\n",
       "    </tr>\n",
       "    <tr>\n",
       "      <th>25%</th>\n",
       "      <td>5.012989</td>\n",
       "      <td>5.124462</td>\n",
       "    </tr>\n",
       "    <tr>\n",
       "      <th>50%</th>\n",
       "      <td>5.485048</td>\n",
       "      <td>5.703076</td>\n",
       "    </tr>\n",
       "    <tr>\n",
       "      <th>75%</th>\n",
       "      <td>5.812748</td>\n",
       "      <td>6.046088</td>\n",
       "    </tr>\n",
       "    <tr>\n",
       "      <th>max</th>\n",
       "      <td>7.866612</td>\n",
       "      <td>8.279748</td>\n",
       "    </tr>\n",
       "  </tbody>\n",
       "</table>\n",
       "</div>"
      ],
      "text/plain": [
       "               x          y\n",
       "count  20.000000  20.000000\n",
       "mean    5.396255   5.616409\n",
       "std     1.001252   0.974802\n",
       "min     2.795827   3.183520\n",
       "25%     5.012989   5.124462\n",
       "50%     5.485048   5.703076\n",
       "75%     5.812748   6.046088\n",
       "max     7.866612   8.279748"
      ]
     },
     "execution_count": 131,
     "metadata": {},
     "output_type": "execute_result"
    }
   ],
   "source": [
    "df.describe()"
   ]
  },
  {
   "cell_type": "code",
   "execution_count": 132,
   "metadata": {},
   "outputs": [],
   "source": [
    "melted = df.melt(value_vars=['x', 'y'], var_name='sample')"
   ]
  },
  {
   "cell_type": "code",
   "execution_count": 133,
   "metadata": {},
   "outputs": [
    {
     "data": {
      "text/plain": [
       "<matplotlib.axes._subplots.AxesSubplot at 0x7f3c00f821d0>"
      ]
     },
     "execution_count": 133,
     "metadata": {},
     "output_type": "execute_result"
    },
    {
     "data": {
      "image/png": "[encoded data removed]",
      "text/plain": [
       "<Figure size 432x288 with 1 Axes>"
      ]
     },
     "metadata": {
      "needs_background": "light"
     },
     "output_type": "display_data"
    }
   ],
   "source": [
    "sns.swarmplot(x='sample', y='value', data=melted, color=\"0.2\")\n",
    "sns.boxplot(x='sample', y='value', data=melted)"
   ]
  },
  {
   "cell_type": "code",
   "execution_count": 134,
   "metadata": {},
   "outputs": [
    {
     "data": {
      "text/plain": [
       "Ttest_indResult(statistic=-0.7045628238551145, pvalue=0.48537831291158395)"
      ]
     },
     "execution_count": 134,
     "metadata": {},
     "output_type": "execute_result"
    }
   ],
   "source": [
    "stats.ttest_ind(df.x, df.y)"
   ]
  },
  {
   "cell_type": "code",
   "execution_count": 135,
   "metadata": {},
   "outputs": [
    {
     "data": {
      "text/plain": [
       "Ttest_relResult(statistic=-4.357780748762539, pvalue=0.00033874263765778487)"
      ]
     },
     "execution_count": 135,
     "metadata": {},
     "output_type": "execute_result"
    }
   ],
   "source": [
    "stats.ttest_rel(df.x, df.y)"
   ]
  },
  {
   "cell_type": "code",
   "execution_count": 157,
   "metadata": {},
   "outputs": [
    {
     "data": {
      "text/plain": [
       "([<matplotlib.axis.XTick at 0x7f6e8f347860>,\n",
       "  <matplotlib.axis.XTick at 0x7f6e8f320668>],\n",
       " <a list of 2 Text xticklabel objects>)"
      ]
     },
     "execution_count": 157,
     "metadata": {},
     "output_type": "execute_result"
    },
    {
     "data": {
      "image/png": "[encoded data removed]",
      "text/plain": [
       "<Figure size 216x360 with 1 Axes>"
      ]
     },
     "metadata": {
      "needs_background": "light"
     },
     "output_type": "display_data"
    }
   ],
   "source": [
    "plt.figure(figsize=(3,5))\n",
    "plt.plot(df.values.T)\n",
    "plt.xticks([0,1], ['x','y'])"
   ]
  },
  {
   "cell_type": "markdown",
   "metadata": {},
   "source": [
    "# ANOVA"
   ]
  },
  {
   "cell_type": "markdown",
   "metadata": {},
   "source": [
    "https://pythonfordatascience.org/anova-python/\n",
    "\n",
    "https://www.marsja.se/four-ways-to-conduct-one-way-anovas-using-python/"
   ]
  },
  {
   "cell_type": "code",
   "execution_count": 3,
   "metadata": {},
   "outputs": [],
   "source": [
    "texxt_table = \"\"\"Low Calorie\n",
    "\n",
    "Low Fat\n",
    "\n",
    "Low Carbohydrate\n",
    "\n",
    "Control\n",
    "\n",
    "8\n",
    "\n",
    "2\n",
    "\n",
    "3\n",
    "\n",
    "2\n",
    "\n",
    "9\n",
    "\n",
    "4\n",
    "\n",
    "5\n",
    "\n",
    "2\n",
    "\n",
    "6\n",
    "\n",
    "3\n",
    "\n",
    "4\n",
    "\n",
    "-1\n",
    "\n",
    "7\n",
    "\n",
    "5\n",
    "\n",
    "2\n",
    "\n",
    "0\n",
    "\n",
    "3\n",
    "\n",
    "1\n",
    "\n",
    "3\n",
    "\n",
    "3\"\"\""
   ]
  },
  {
   "cell_type": "code",
   "execution_count": 4,
   "metadata": {},
   "outputs": [
    {
     "data": {
      "text/plain": [
       "'Low Calorie\\n\\nLow Fat\\n\\nLow Carbohydrate\\n\\nControl\\n\\n8\\n\\n2\\n\\n3\\n\\n2\\n\\n9\\n\\n4\\n\\n5\\n\\n2\\n\\n6\\n\\n3\\n\\n4\\n\\n-1\\n\\n7\\n\\n5\\n\\n2\\n\\n0\\n\\n3\\n\\n1\\n\\n3\\n\\n3'"
      ]
     },
     "execution_count": 4,
     "metadata": {},
     "output_type": "execute_result"
    }
   ],
   "source": [
    "texxt_table"
   ]
  },
  {
   "cell_type": "code",
   "execution_count": 5,
   "metadata": {},
   "outputs": [],
   "source": [
    "rows = texxt_table.split('\\n')"
   ]
  },
  {
   "cell_type": "code",
   "execution_count": 16,
   "metadata": {},
   "outputs": [],
   "source": [
    "rows_ = [x for x in rows if x!='']"
   ]
  },
  {
   "cell_type": "code",
   "execution_count": 17,
   "metadata": {},
   "outputs": [
    {
     "data": {
      "text/plain": [
       "['Low Calorie',\n",
       " 'Low Fat',\n",
       " 'Low Carbohydrate',\n",
       " 'Control',\n",
       " '8',\n",
       " '2',\n",
       " '3',\n",
       " '2',\n",
       " '9',\n",
       " '4',\n",
       " '5',\n",
       " '2',\n",
       " '6',\n",
       " '3',\n",
       " '4',\n",
       " '-1',\n",
       " '7',\n",
       " '5',\n",
       " '2',\n",
       " '0',\n",
       " '3',\n",
       " '1',\n",
       " '3',\n",
       " '3']"
      ]
     },
     "execution_count": 17,
     "metadata": {},
     "output_type": "execute_result"
    }
   ],
   "source": [
    "rows_"
   ]
  },
  {
   "cell_type": "code",
   "execution_count": 23,
   "metadata": {},
   "outputs": [],
   "source": [
    "rows_arr = np.array(rows_).reshape((-1,4))"
   ]
  },
  {
   "cell_type": "code",
   "execution_count": 24,
   "metadata": {},
   "outputs": [
    {
     "data": {
      "text/plain": [
       "array([['Low Calorie', 'Low Fat', 'Low Carbohydrate', 'Control'],\n",
       "       ['8', '2', '3', '2'],\n",
       "       ['9', '4', '5', '2'],\n",
       "       ['6', '3', '4', '-1'],\n",
       "       ['7', '5', '2', '0'],\n",
       "       ['3', '1', '3', '3']], dtype='<U16')"
      ]
     },
     "execution_count": 24,
     "metadata": {},
     "output_type": "execute_result"
    }
   ],
   "source": [
    "rows_arr"
   ]
  },
  {
   "cell_type": "code",
   "execution_count": 25,
   "metadata": {},
   "outputs": [],
   "source": [
    "df = pd.DataFrame(rows_arr[1:,:],\n",
    "                 columns=rows_arr[0,:])"
   ]
  },
  {
   "cell_type": "code",
   "execution_count": 26,
   "metadata": {},
   "outputs": [
    {
     "data": {
      "text/html": [
       "<div>\n",
       "<style scoped>\n",
       "    .dataframe tbody tr th:only-of-type {\n",
       "        vertical-align: middle;\n",
       "    }\n",
       "\n",
       "    .dataframe tbody tr th {\n",
       "        vertical-align: top;\n",
       "    }\n",
       "\n",
       "    .dataframe thead th {\n",
       "        text-align: right;\n",
       "    }\n",
       "</style>\n",
       "<table border=\"1\" class=\"dataframe\">\n",
       "  <thead>\n",
       "    <tr style=\"text-align: right;\">\n",
       "      <th></th>\n",
       "      <th>Low Calorie</th>\n",
       "      <th>Low Fat</th>\n",
       "      <th>Low Carbohydrate</th>\n",
       "      <th>Control</th>\n",
       "    </tr>\n",
       "  </thead>\n",
       "  <tbody>\n",
       "    <tr>\n",
       "      <th>0</th>\n",
       "      <td>8</td>\n",
       "      <td>2</td>\n",
       "      <td>3</td>\n",
       "      <td>2</td>\n",
       "    </tr>\n",
       "    <tr>\n",
       "      <th>1</th>\n",
       "      <td>9</td>\n",
       "      <td>4</td>\n",
       "      <td>5</td>\n",
       "      <td>2</td>\n",
       "    </tr>\n",
       "    <tr>\n",
       "      <th>2</th>\n",
       "      <td>6</td>\n",
       "      <td>3</td>\n",
       "      <td>4</td>\n",
       "      <td>-1</td>\n",
       "    </tr>\n",
       "    <tr>\n",
       "      <th>3</th>\n",
       "      <td>7</td>\n",
       "      <td>5</td>\n",
       "      <td>2</td>\n",
       "      <td>0</td>\n",
       "    </tr>\n",
       "    <tr>\n",
       "      <th>4</th>\n",
       "      <td>3</td>\n",
       "      <td>1</td>\n",
       "      <td>3</td>\n",
       "      <td>3</td>\n",
       "    </tr>\n",
       "  </tbody>\n",
       "</table>\n",
       "</div>"
      ],
      "text/plain": [
       "  Low Calorie Low Fat Low Carbohydrate Control\n",
       "0           8       2                3       2\n",
       "1           9       4                5       2\n",
       "2           6       3                4      -1\n",
       "3           7       5                2       0\n",
       "4           3       1                3       3"
      ]
     },
     "execution_count": 26,
     "metadata": {},
     "output_type": "execute_result"
    }
   ],
   "source": [
    "df"
   ]
  },
  {
   "cell_type": "code",
   "execution_count": 28,
   "metadata": {},
   "outputs": [
    {
     "data": {
      "text/plain": [
       "Low Calorie         object\n",
       "Low Fat             object\n",
       "Low Carbohydrate    object\n",
       "Control             object\n",
       "dtype: object"
      ]
     },
     "execution_count": 28,
     "metadata": {},
     "output_type": "execute_result"
    }
   ],
   "source": [
    "df.dtypes"
   ]
  },
  {
   "cell_type": "code",
   "execution_count": 30,
   "metadata": {},
   "outputs": [],
   "source": [
    "df = df.astype(float)"
   ]
  },
  {
   "cell_type": "code",
   "execution_count": 31,
   "metadata": {},
   "outputs": [
    {
     "data": {
      "text/html": [
       "<div>\n",
       "<style scoped>\n",
       "    .dataframe tbody tr th:only-of-type {\n",
       "        vertical-align: middle;\n",
       "    }\n",
       "\n",
       "    .dataframe tbody tr th {\n",
       "        vertical-align: top;\n",
       "    }\n",
       "\n",
       "    .dataframe thead th {\n",
       "        text-align: right;\n",
       "    }\n",
       "</style>\n",
       "<table border=\"1\" class=\"dataframe\">\n",
       "  <thead>\n",
       "    <tr style=\"text-align: right;\">\n",
       "      <th></th>\n",
       "      <th>Low Calorie</th>\n",
       "      <th>Low Fat</th>\n",
       "      <th>Low Carbohydrate</th>\n",
       "      <th>Control</th>\n",
       "    </tr>\n",
       "  </thead>\n",
       "  <tbody>\n",
       "    <tr>\n",
       "      <th>0</th>\n",
       "      <td>8.0</td>\n",
       "      <td>2.0</td>\n",
       "      <td>3.0</td>\n",
       "      <td>2.0</td>\n",
       "    </tr>\n",
       "    <tr>\n",
       "      <th>1</th>\n",
       "      <td>9.0</td>\n",
       "      <td>4.0</td>\n",
       "      <td>5.0</td>\n",
       "      <td>2.0</td>\n",
       "    </tr>\n",
       "    <tr>\n",
       "      <th>2</th>\n",
       "      <td>6.0</td>\n",
       "      <td>3.0</td>\n",
       "      <td>4.0</td>\n",
       "      <td>-1.0</td>\n",
       "    </tr>\n",
       "    <tr>\n",
       "      <th>3</th>\n",
       "      <td>7.0</td>\n",
       "      <td>5.0</td>\n",
       "      <td>2.0</td>\n",
       "      <td>0.0</td>\n",
       "    </tr>\n",
       "    <tr>\n",
       "      <th>4</th>\n",
       "      <td>3.0</td>\n",
       "      <td>1.0</td>\n",
       "      <td>3.0</td>\n",
       "      <td>3.0</td>\n",
       "    </tr>\n",
       "  </tbody>\n",
       "</table>\n",
       "</div>"
      ],
      "text/plain": [
       "   Low Calorie  Low Fat  Low Carbohydrate  Control\n",
       "0          8.0      2.0               3.0      2.0\n",
       "1          9.0      4.0               5.0      2.0\n",
       "2          6.0      3.0               4.0     -1.0\n",
       "3          7.0      5.0               2.0      0.0\n",
       "4          3.0      1.0               3.0      3.0"
      ]
     },
     "execution_count": 31,
     "metadata": {},
     "output_type": "execute_result"
    }
   ],
   "source": [
    "df"
   ]
  },
  {
   "cell_type": "code",
   "execution_count": 32,
   "metadata": {},
   "outputs": [],
   "source": [
    "df_stats = df.melt(value_vars=df.columns, var_name='group', value_name='weight')"
   ]
  },
  {
   "cell_type": "code",
   "execution_count": 33,
   "metadata": {},
   "outputs": [
    {
     "data": {
      "text/html": [
       "<div>\n",
       "<style scoped>\n",
       "    .dataframe tbody tr th:only-of-type {\n",
       "        vertical-align: middle;\n",
       "    }\n",
       "\n",
       "    .dataframe tbody tr th {\n",
       "        vertical-align: top;\n",
       "    }\n",
       "\n",
       "    .dataframe thead th {\n",
       "        text-align: right;\n",
       "    }\n",
       "</style>\n",
       "<table border=\"1\" class=\"dataframe\">\n",
       "  <thead>\n",
       "    <tr style=\"text-align: right;\">\n",
       "      <th></th>\n",
       "      <th>group</th>\n",
       "      <th>weight</th>\n",
       "    </tr>\n",
       "  </thead>\n",
       "  <tbody>\n",
       "    <tr>\n",
       "      <th>0</th>\n",
       "      <td>Low Calorie</td>\n",
       "      <td>8.0</td>\n",
       "    </tr>\n",
       "    <tr>\n",
       "      <th>1</th>\n",
       "      <td>Low Calorie</td>\n",
       "      <td>9.0</td>\n",
       "    </tr>\n",
       "    <tr>\n",
       "      <th>2</th>\n",
       "      <td>Low Calorie</td>\n",
       "      <td>6.0</td>\n",
       "    </tr>\n",
       "    <tr>\n",
       "      <th>3</th>\n",
       "      <td>Low Calorie</td>\n",
       "      <td>7.0</td>\n",
       "    </tr>\n",
       "    <tr>\n",
       "      <th>4</th>\n",
       "      <td>Low Calorie</td>\n",
       "      <td>3.0</td>\n",
       "    </tr>\n",
       "    <tr>\n",
       "      <th>5</th>\n",
       "      <td>Low Fat</td>\n",
       "      <td>2.0</td>\n",
       "    </tr>\n",
       "    <tr>\n",
       "      <th>6</th>\n",
       "      <td>Low Fat</td>\n",
       "      <td>4.0</td>\n",
       "    </tr>\n",
       "    <tr>\n",
       "      <th>7</th>\n",
       "      <td>Low Fat</td>\n",
       "      <td>3.0</td>\n",
       "    </tr>\n",
       "    <tr>\n",
       "      <th>8</th>\n",
       "      <td>Low Fat</td>\n",
       "      <td>5.0</td>\n",
       "    </tr>\n",
       "    <tr>\n",
       "      <th>9</th>\n",
       "      <td>Low Fat</td>\n",
       "      <td>1.0</td>\n",
       "    </tr>\n",
       "    <tr>\n",
       "      <th>10</th>\n",
       "      <td>Low Carbohydrate</td>\n",
       "      <td>3.0</td>\n",
       "    </tr>\n",
       "    <tr>\n",
       "      <th>11</th>\n",
       "      <td>Low Carbohydrate</td>\n",
       "      <td>5.0</td>\n",
       "    </tr>\n",
       "    <tr>\n",
       "      <th>12</th>\n",
       "      <td>Low Carbohydrate</td>\n",
       "      <td>4.0</td>\n",
       "    </tr>\n",
       "    <tr>\n",
       "      <th>13</th>\n",
       "      <td>Low Carbohydrate</td>\n",
       "      <td>2.0</td>\n",
       "    </tr>\n",
       "    <tr>\n",
       "      <th>14</th>\n",
       "      <td>Low Carbohydrate</td>\n",
       "      <td>3.0</td>\n",
       "    </tr>\n",
       "    <tr>\n",
       "      <th>15</th>\n",
       "      <td>Control</td>\n",
       "      <td>2.0</td>\n",
       "    </tr>\n",
       "    <tr>\n",
       "      <th>16</th>\n",
       "      <td>Control</td>\n",
       "      <td>2.0</td>\n",
       "    </tr>\n",
       "    <tr>\n",
       "      <th>17</th>\n",
       "      <td>Control</td>\n",
       "      <td>-1.0</td>\n",
       "    </tr>\n",
       "    <tr>\n",
       "      <th>18</th>\n",
       "      <td>Control</td>\n",
       "      <td>0.0</td>\n",
       "    </tr>\n",
       "    <tr>\n",
       "      <th>19</th>\n",
       "      <td>Control</td>\n",
       "      <td>3.0</td>\n",
       "    </tr>\n",
       "  </tbody>\n",
       "</table>\n",
       "</div>"
      ],
      "text/plain": [
       "               group  weight\n",
       "0        Low Calorie     8.0\n",
       "1        Low Calorie     9.0\n",
       "2        Low Calorie     6.0\n",
       "3        Low Calorie     7.0\n",
       "4        Low Calorie     3.0\n",
       "5            Low Fat     2.0\n",
       "6            Low Fat     4.0\n",
       "7            Low Fat     3.0\n",
       "8            Low Fat     5.0\n",
       "9            Low Fat     1.0\n",
       "10  Low Carbohydrate     3.0\n",
       "11  Low Carbohydrate     5.0\n",
       "12  Low Carbohydrate     4.0\n",
       "13  Low Carbohydrate     2.0\n",
       "14  Low Carbohydrate     3.0\n",
       "15           Control     2.0\n",
       "16           Control     2.0\n",
       "17           Control    -1.0\n",
       "18           Control     0.0\n",
       "19           Control     3.0"
      ]
     },
     "execution_count": 33,
     "metadata": {},
     "output_type": "execute_result"
    }
   ],
   "source": [
    "df_stats"
   ]
  },
  {
   "cell_type": "code",
   "execution_count": 36,
   "metadata": {},
   "outputs": [
    {
     "data": {
      "text/plain": [
       "<matplotlib.axes._subplots.AxesSubplot at 0x7f3c05323ef0>"
      ]
     },
     "execution_count": 36,
     "metadata": {},
     "output_type": "execute_result"
    },
    {
     "data": {
      "image/png": "[encoded data removed]",
      "text/plain": [
       "<Figure size 432x288 with 1 Axes>"
      ]
     },
     "metadata": {
      "needs_background": "light"
     },
     "output_type": "display_data"
    }
   ],
   "source": [
    "df_stats.boxplot('weight', by='group')"
   ]
  },
  {
   "cell_type": "code",
   "execution_count": 37,
   "metadata": {},
   "outputs": [],
   "source": [
    "import statsmodels.api as sm\n",
    "from statsmodels.formula.api import ols"
   ]
  },
  {
   "cell_type": "code",
   "execution_count": 38,
   "metadata": {},
   "outputs": [],
   "source": [
    "mod = ols('weight ~ group', data=df_stats).fit()"
   ]
  },
  {
   "cell_type": "code",
   "execution_count": 39,
   "metadata": {},
   "outputs": [],
   "source": [
    "aov_table = sm.stats.anova_lm(mod, typ=2)"
   ]
  },
  {
   "cell_type": "code",
   "execution_count": 40,
   "metadata": {},
   "outputs": [
    {
     "data": {
      "text/html": [
       "<div>\n",
       "<style scoped>\n",
       "    .dataframe tbody tr th:only-of-type {\n",
       "        vertical-align: middle;\n",
       "    }\n",
       "\n",
       "    .dataframe tbody tr th {\n",
       "        vertical-align: top;\n",
       "    }\n",
       "\n",
       "    .dataframe thead th {\n",
       "        text-align: right;\n",
       "    }\n",
       "</style>\n",
       "<table border=\"1\" class=\"dataframe\">\n",
       "  <thead>\n",
       "    <tr style=\"text-align: right;\">\n",
       "      <th></th>\n",
       "      <th>sum_sq</th>\n",
       "      <th>df</th>\n",
       "      <th>F</th>\n",
       "      <th>PR(&gt;F)</th>\n",
       "    </tr>\n",
       "  </thead>\n",
       "  <tbody>\n",
       "    <tr>\n",
       "      <th>group</th>\n",
       "      <td>75.75</td>\n",
       "      <td>3.0</td>\n",
       "      <td>8.559322</td>\n",
       "      <td>0.001278</td>\n",
       "    </tr>\n",
       "    <tr>\n",
       "      <th>Residual</th>\n",
       "      <td>47.20</td>\n",
       "      <td>16.0</td>\n",
       "      <td>NaN</td>\n",
       "      <td>NaN</td>\n",
       "    </tr>\n",
       "  </tbody>\n",
       "</table>\n",
       "</div>"
      ],
      "text/plain": [
       "          sum_sq    df         F    PR(>F)\n",
       "group      75.75   3.0  8.559322  0.001278\n",
       "Residual   47.20  16.0       NaN       NaN"
      ]
     },
     "execution_count": 40,
     "metadata": {},
     "output_type": "execute_result"
    }
   ],
   "source": [
    "aov_table"
   ]
  },
  {
   "cell_type": "code",
   "execution_count": 41,
   "metadata": {},
   "outputs": [],
   "source": [
    "group_names = df.columns"
   ]
  },
  {
   "cell_type": "code",
   "execution_count": 42,
   "metadata": {},
   "outputs": [
    {
     "data": {
      "text/plain": [
       "Index(['Low Calorie', 'Low Fat', 'Low Carbohydrate', 'Control'], dtype='object')"
      ]
     },
     "execution_count": 42,
     "metadata": {},
     "output_type": "execute_result"
    }
   ],
   "source": [
    "group_names"
   ]
  },
  {
   "cell_type": "code",
   "execution_count": 43,
   "metadata": {},
   "outputs": [],
   "source": [
    "w_values = [df[group] for group in group_names]"
   ]
  },
  {
   "cell_type": "code",
   "execution_count": 47,
   "metadata": {},
   "outputs": [
    {
     "data": {
      "text/plain": [
       "[0    8.0\n",
       " 1    9.0\n",
       " 2    6.0\n",
       " 3    7.0\n",
       " 4    3.0\n",
       " Name: Low Calorie, dtype: float64, 0    2.0\n",
       " 1    4.0\n",
       " 2    3.0\n",
       " 3    5.0\n",
       " 4    1.0\n",
       " Name: Low Fat, dtype: float64, 0    3.0\n",
       " 1    5.0\n",
       " 2    4.0\n",
       " 3    2.0\n",
       " 4    3.0\n",
       " Name: Low Carbohydrate, dtype: float64, 0    2.0\n",
       " 1    2.0\n",
       " 2   -1.0\n",
       " 3    0.0\n",
       " 4    3.0\n",
       " Name: Control, dtype: float64]"
      ]
     },
     "execution_count": 47,
     "metadata": {},
     "output_type": "execute_result"
    }
   ],
   "source": [
    "w_values"
   ]
  },
  {
   "cell_type": "code",
   "execution_count": 48,
   "metadata": {},
   "outputs": [
    {
     "data": {
      "text/plain": [
       "F_onewayResult(statistic=8.559322033898304, pvalue=0.0012777417892066623)"
      ]
     },
     "execution_count": 48,
     "metadata": {},
     "output_type": "execute_result"
    }
   ],
   "source": [
    "stats.f_oneway(*w_values)"
   ]
  },
  {
   "cell_type": "code",
   "execution_count": 49,
   "metadata": {},
   "outputs": [
    {
     "name": "stdout",
     "output_type": "stream",
     "text": [
      "                            OLS Regression Results                            \n",
      "==============================================================================\n",
      "Dep. Variable:                 weight   R-squared:                       0.616\n",
      "Model:                            OLS   Adj. R-squared:                  0.544\n",
      "Method:                 Least Squares   F-statistic:                     8.559\n",
      "Date:                Tue, 28 Jan 2020   Prob (F-statistic):            0.00128\n",
      "Time:                        13:14:27   Log-Likelihood:                -36.965\n",
      "No. Observations:                  20   AIC:                             81.93\n",
      "Df Residuals:                      16   BIC:                             85.91\n",
      "Df Model:                           3                                         \n",
      "Covariance Type:            nonrobust                                         \n",
      "=============================================================================================\n",
      "                                coef    std err          t      P>|t|      [0.025      0.975]\n",
      "---------------------------------------------------------------------------------------------\n",
      "Intercept                     1.2000      0.768      1.562      0.138      -0.428       2.828\n",
      "group[T.Low Calorie]          5.4000      1.086      4.971      0.000       3.097       7.703\n",
      "group[T.Low Carbohydrate]     2.2000      1.086      2.025      0.060      -0.103       4.503\n",
      "group[T.Low Fat]              1.8000      1.086      1.657      0.117      -0.503       4.103\n",
      "==============================================================================\n",
      "Omnibus:                        1.085   Durbin-Watson:                   1.944\n",
      "Prob(Omnibus):                  0.581   Jarque-Bera (JB):                0.899\n",
      "Skew:                          -0.473   Prob(JB):                        0.638\n",
      "Kurtosis:                       2.572   Cond. No.                         4.79\n",
      "==============================================================================\n",
      "\n",
      "Warnings:\n",
      "[1] Standard Errors assume that the covariance matrix of the errors is correctly specified.\n"
     ]
    }
   ],
   "source": [
    "print(mod.summary())\n"
   ]
  },
  {
   "cell_type": "markdown",
   "metadata": {},
   "source": [
    "## Proportions"
   ]
  },
  {
   "cell_type": "markdown",
   "metadata": {},
   "source": [
    "https://www.statsmodels.org/stable/generated/statsmodels.stats.proportion.proportions_ztest.html"
   ]
  },
  {
   "cell_type": "code",
   "execution_count": 60,
   "metadata": {},
   "outputs": [],
   "source": [
    "# 2 groups, H0: p1==p2, Ha: P1!=p2\n",
    "n_men = 642\n",
    "n_women = 591\n",
    "group_size=1000\n"
   ]
  },
  {
   "cell_type": "code",
   "execution_count": 59,
   "metadata": {},
   "outputs": [],
   "source": [
    "from statsmodels.stats.proportion import proportions_ztest\n"
   ]
  },
  {
   "cell_type": "code",
   "execution_count": 61,
   "metadata": {},
   "outputs": [],
   "source": [
    "count = np.array([n_men, n_women])\n",
    "nobs = np.array([group_size, group_size])\n",
    "# nobs = np.array([83, 99])\n",
    "stat, pval = proportions_ztest(count, nobs)\n",
    "\n"
   ]
  },
  {
   "cell_type": "code",
   "execution_count": 62,
   "metadata": {},
   "outputs": [
    {
     "data": {
      "text/plain": [
       "2.3453407727949207"
      ]
     },
     "execution_count": 62,
     "metadata": {},
     "output_type": "execute_result"
    }
   ],
   "source": [
    "stat"
   ]
  },
  {
   "cell_type": "code",
   "execution_count": 63,
   "metadata": {},
   "outputs": [
    {
     "data": {
      "text/plain": [
       "0.01900969625410689"
      ]
     },
     "execution_count": 63,
     "metadata": {},
     "output_type": "execute_result"
    }
   ],
   "source": [
    "pval"
   ]
  },
  {
   "cell_type": "code",
   "execution_count": 68,
   "metadata": {},
   "outputs": [],
   "source": [
    "# 1 group\n",
    "# is dice fair or not?"
   ]
  },
  {
   "cell_type": "code",
   "execution_count": 66,
   "metadata": {},
   "outputs": [
    {
     "data": {
      "text/plain": [
       "0.043747970182413345"
      ]
     },
     "execution_count": 66,
     "metadata": {},
     "output_type": "execute_result"
    }
   ],
   "source": [
    "stats.binom_test(51, 235, 1.0/6, alternative='two-sided') # exact binomial test"
   ]
  },
  {
   "cell_type": "code",
   "execution_count": 69,
   "metadata": {},
   "outputs": [
    {
     "data": {
      "text/plain": [
       "(1.872608670525164, 0.06112244315091697)"
      ]
     },
     "execution_count": 69,
     "metadata": {},
     "output_type": "execute_result"
    }
   ],
   "source": [
    "proportions_ztest(51, 235, 1./6) # z-test for proportions"
   ]
  },
  {
   "cell_type": "code",
   "execution_count": 136,
   "metadata": {},
   "outputs": [],
   "source": [
    "## Discrete variables - more than 2"
   ]
  },
  {
   "cell_type": "markdown",
   "metadata": {},
   "source": [
    "https://docs.scipy.org/doc/scipy/reference/generated/scipy.stats.chisquare.html"
   ]
  },
  {
   "cell_type": "code",
   "execution_count": 140,
   "metadata": {},
   "outputs": [
    {
     "data": {
      "text/plain": [
       "(2.5257936507936507,\n",
       " 0.2828335193186947,\n",
       " 2,\n",
       " array([[ 25.26315789,  29.47368421,  25.26315789],\n",
       "        [ 94.73684211, 110.52631579,  94.73684211]]))"
      ]
     },
     "execution_count": 140,
     "metadata": {},
     "output_type": "execute_result"
    }
   ],
   "source": [
    "obs = np.array([[20, 30, 30], [100, 110, 90]])\n",
    "stats.chi2_contingency(obs)"
   ]
  },
  {
   "cell_type": "code",
   "execution_count": 142,
   "metadata": {},
   "outputs": [
    {
     "data": {
      "text/plain": [
       "(2.5257936507936507,\n",
       " 0.2828335193186947,\n",
       " 2,\n",
       " array([[ 25.26315789,  94.73684211],\n",
       "        [ 29.47368421, 110.52631579],\n",
       "        [ 25.26315789,  94.73684211]]))"
      ]
     },
     "execution_count": 142,
     "metadata": {},
     "output_type": "execute_result"
    }
   ],
   "source": [
    "obs = np.array([[20, 30, 30], [100, 110, 90]]).T\n",
    "stats.chi2_contingency(obs)"
   ]
  },
  {
   "cell_type": "markdown",
   "metadata": {},
   "source": [
    "# Literature:"
   ]
  },
  {
   "cell_type": "markdown",
   "metadata": {},
   "source": [
    " Flow charts:\n",
    "  - https://onishlab.colostate.edu/wp-content/uploads/2019/07/which_test_flowchart.png\n",
    "  - https://onishlab.colostate.edu/wp-content/uploads/2019/07/hypothesis_testing.png\n",
    " \n",
    " General:\n",
    " - https://www.khanacademy.org/math/statistics-probability/ -- some examples were taken from here\n",
    " - wikipedia.org\n",
    " \n",
    " ANOVA:\n",
    " - https://www.statsmodels.org/stable/examples/notebooks/generated/interactions_anova.html#One-way-ANOVA\n",
    " - https://www.marsja.se/four-ways-to-conduct-one-way-anovas-using-python/\n",
    " - http://sphweb.bumc.bu.edu/otlt/MPH-Modules/BS/BS704_HypothesisTesting-ANOVA/BS704_HypothesisTesting-Anova_print.html\n",
    "  - https://www.statisticshowto.datasciencecentral.com/probability-and-statistics/hypothesis-testing/anova/\n",
    " \n",
    " (not discussed) \n",
    "  - Test for paired discrete variables - McNemar's test (https://en.wikipedia.org/wiki/McNemar%27s_test)\n",
    "  -  https://lindeloev.github.io/tests-as-linear/linear_tests_cheat_sheet.pdf"
   ]
  },
  {
   "cell_type": "code",
   "execution_count": null,
   "metadata": {},
   "outputs": [],
   "source": []
  },
  {
   "cell_type": "code",
   "execution_count": null,
   "metadata": {},
   "outputs": [],
   "source": []
  }
 ],
 "metadata": {
  "kernelspec": {
   "display_name": "sklearnpy36",
   "language": "python",
   "name": "sklearnpy36"
  },
  "language_info": {
   "codemirror_mode": {
    "name": "ipython",
    "version": 3
   },
   "file_extension": ".py",
   "mimetype": "text/x-python",
   "name": "python",
   "nbconvert_exporter": "python",
   "pygments_lexer": "ipython3",
   "version": "3.6.10"
  }
 },
 "nbformat": 4,
 "nbformat_minor": 2
}
